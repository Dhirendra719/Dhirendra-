{
  "cells": [
    {
      "cell_type": "markdown",
      "metadata": {
        "id": "view-in-github",
        "colab_type": "text"
      },
      "source": [
        "<a href=\"https://colab.research.google.com/github/Dhirendra719/Dhirendra-/blob/main/Python_For_Research_Dp_Upadhyay.ipynb\" target=\"_parent\"><img src=\"https://colab.research.google.com/assets/colab-badge.svg\" alt=\"Open In Colab\"/></a>"
      ]
    },
    {
      "cell_type": "code",
      "execution_count": 2,
      "metadata": {
        "colab": {
          "base_uri": "https://localhost:8080/"
        },
        "collapsed": true,
        "id": "SrkEa19Dd8wg",
        "outputId": "f079a724-6b5a-4ca7-febf-dd5650ef47c8"
      },
      "outputs": [
        {
          "output_type": "stream",
          "name": "stdout",
          "text": [
            "Requirement already satisfied: matplotlib in /usr/local/lib/python3.10/dist-packages (3.7.1)\n",
            "Requirement already satisfied: contourpy>=1.0.1 in /usr/local/lib/python3.10/dist-packages (from matplotlib) (1.2.1)\n",
            "Requirement already satisfied: cycler>=0.10 in /usr/local/lib/python3.10/dist-packages (from matplotlib) (0.12.1)\n",
            "Requirement already satisfied: fonttools>=4.22.0 in /usr/local/lib/python3.10/dist-packages (from matplotlib) (4.53.0)\n",
            "Requirement already satisfied: kiwisolver>=1.0.1 in /usr/local/lib/python3.10/dist-packages (from matplotlib) (1.4.5)\n",
            "Requirement already satisfied: numpy>=1.20 in /usr/local/lib/python3.10/dist-packages (from matplotlib) (1.25.2)\n",
            "Requirement already satisfied: packaging>=20.0 in /usr/local/lib/python3.10/dist-packages (from matplotlib) (24.1)\n",
            "Requirement already satisfied: pillow>=6.2.0 in /usr/local/lib/python3.10/dist-packages (from matplotlib) (9.4.0)\n",
            "Requirement already satisfied: pyparsing>=2.3.1 in /usr/local/lib/python3.10/dist-packages (from matplotlib) (3.1.2)\n",
            "Requirement already satisfied: python-dateutil>=2.7 in /usr/local/lib/python3.10/dist-packages (from matplotlib) (2.8.2)\n",
            "Requirement already satisfied: six>=1.5 in /usr/local/lib/python3.10/dist-packages (from python-dateutil>=2.7->matplotlib) (1.16.0)\n",
            "Requirement already satisfied: numpy in /usr/local/lib/python3.10/dist-packages (1.25.2)\n",
            "Requirement already satisfied: pandas in /usr/local/lib/python3.10/dist-packages (2.0.3)\n",
            "Requirement already satisfied: python-dateutil>=2.8.2 in /usr/local/lib/python3.10/dist-packages (from pandas) (2.8.2)\n",
            "Requirement already satisfied: pytz>=2020.1 in /usr/local/lib/python3.10/dist-packages (from pandas) (2023.4)\n",
            "Requirement already satisfied: tzdata>=2022.1 in /usr/local/lib/python3.10/dist-packages (from pandas) (2024.1)\n",
            "Requirement already satisfied: numpy>=1.21.0 in /usr/local/lib/python3.10/dist-packages (from pandas) (1.25.2)\n",
            "Requirement already satisfied: six>=1.5 in /usr/local/lib/python3.10/dist-packages (from python-dateutil>=2.8.2->pandas) (1.16.0)\n",
            "\u001b[31mERROR: Could not find a version that satisfies the requirement math (from versions: none)\u001b[0m\u001b[31m\n",
            "\u001b[0m\u001b[31mERROR: No matching distribution found for math\u001b[0m\u001b[31m\n",
            "\u001b[0m"
          ]
        }
      ],
      "source": [
        "# install the required modules\n",
        "!pip install matplotlib\n",
        "!pip install numpy\n",
        "!pip install pandas\n",
        "!pip install math"
      ]
    },
    {
      "cell_type": "code",
      "execution_count": 3,
      "metadata": {
        "id": "ddS-_39IeDNj"
      },
      "outputs": [],
      "source": [
        "#Importing modules/ libraries\n",
        "import math as m\n",
        "import numpy as np\n",
        "import matplotlib.pyplot as plt\n",
        "import pandas as pd"
      ]
    },
    {
      "cell_type": "code",
      "execution_count": 4,
      "metadata": {
        "colab": {
          "base_uri": "https://localhost:8080/"
        },
        "id": "Ms60OiSDe2sR",
        "outputId": "fa0688fc-5685-4274-f496-edbf9d736f87"
      },
      "outputs": [
        {
          "output_type": "stream",
          "name": "stdout",
          "text": [
            "1.25.2\n",
            "2.0.3\n"
          ]
        }
      ],
      "source": [
        "# see versions\n",
        "print(np.__version__)\n",
        "print(pd.__version__)\n",
        "\n"
      ]
    },
    {
      "cell_type": "code",
      "execution_count": 5,
      "metadata": {
        "colab": {
          "base_uri": "https://localhost:8080/"
        },
        "id": "K8y8PdtGfVx6",
        "outputId": "f00e8213-2832-4f44-bd1a-56c75fe7fa96"
      },
      "outputs": [
        {
          "output_type": "stream",
          "name": "stdout",
          "text": [
            "3.7.1\n"
          ]
        }
      ],
      "source": [
        "# to see matplotlib version\n",
        "import matplotlib\n",
        "print(matplotlib.__version__)"
      ]
    },
    {
      "cell_type": "markdown",
      "metadata": {
        "id": "NvpDJjdI3syM"
      },
      "source": [
        "# What we need for Research Data Analysis and visualization?\n",
        "1. Data fetching/importing/creating\n",
        "2. Data Analysis\n",
        "3. Data cleaning\n",
        "4.Data visualization\n"
      ]
    },
    {
      "cell_type": "code",
      "execution_count": 6,
      "metadata": {
        "colab": {
          "base_uri": "https://localhost:8080/"
        },
        "id": "PVANdfD_fk3U",
        "outputId": "8851a5fa-7fb9-4068-bf0c-a22ccca680f0"
      },
      "outputs": [
        {
          "output_type": "execute_result",
          "data": {
            "text/plain": [
              "('Dhirendra', 'kirtipur')"
            ]
          },
          "metadata": {},
          "execution_count": 6
        }
      ],
      "source": [
        "#.CSV  - Comma seperated value\n",
        "\"Name\", \"Addr\"\n",
        "\"Dhirendra\", \"kirtipur\"\n"
      ]
    },
    {
      "cell_type": "markdown",
      "metadata": {
        "id": "O2tCD8T740HB"
      },
      "source": [
        "# Data Fetching/Importing"
      ]
    },
    {
      "cell_type": "code",
      "execution_count": 7,
      "metadata": {
        "colab": {
          "base_uri": "https://localhost:8080/",
          "height": 243
        },
        "id": "Ja9Iqi3W4yG9",
        "outputId": "b7b64abc-2b65-4895-cddd-da9bf4e1e0dd"
      },
      "outputs": [
        {
          "output_type": "execute_result",
          "data": {
            "text/plain": [
              "   AtomicNumber Symbol       Name  AtomicMass CPKHexColor  \\\n",
              "0             1      H   Hydrogen    1.008000      FFFFFF   \n",
              "1             2     He     Helium    4.002600      D9FFFF   \n",
              "2             3     Li    Lithium    7.000000      CC80FF   \n",
              "3             4     Be  Beryllium    9.012183      C2FF00   \n",
              "4             5      B      Boron   10.810000      FFB5B5   \n",
              "\n",
              "  ElectronConfiguration  Electronegativity  AtomicRadius  IonizationEnergy  \\\n",
              "0                   1s1               2.20         120.0            13.598   \n",
              "1                   1s2                NaN         140.0            24.587   \n",
              "2               [He]2s1               0.98         182.0             5.392   \n",
              "3               [He]2s2               1.57         153.0             9.323   \n",
              "4           [He]2s2 2p1               2.04         192.0             8.298   \n",
              "\n",
              "   ElectronAffinity OxidationStates StandardState  MeltingPoint  BoilingPoint  \\\n",
              "0             0.754          +1, -1           Gas         13.81         20.28   \n",
              "1               NaN               0           Gas          0.95          4.22   \n",
              "2             0.618              +1         Solid        453.65       1615.00   \n",
              "3               NaN              +2         Solid       1560.00       2744.00   \n",
              "4             0.277              +3         Solid       2348.00       4273.00   \n",
              "\n",
              "    Density            GroupBlock YearDiscovered  \n",
              "0  0.000090              Nonmetal           1766  \n",
              "1  0.000179             Noble gas           1868  \n",
              "2  0.534000          Alkali metal           1817  \n",
              "3  1.850000  Alkaline earth metal           1798  \n",
              "4  2.370000             Metalloid           1808  "
            ],
            "text/html": [
              "\n",
              "  <div id=\"df-5c3a423a-c194-4db4-8835-74b663eb9ac4\" class=\"colab-df-container\">\n",
              "    <div>\n",
              "<style scoped>\n",
              "    .dataframe tbody tr th:only-of-type {\n",
              "        vertical-align: middle;\n",
              "    }\n",
              "\n",
              "    .dataframe tbody tr th {\n",
              "        vertical-align: top;\n",
              "    }\n",
              "\n",
              "    .dataframe thead th {\n",
              "        text-align: right;\n",
              "    }\n",
              "</style>\n",
              "<table border=\"1\" class=\"dataframe\">\n",
              "  <thead>\n",
              "    <tr style=\"text-align: right;\">\n",
              "      <th></th>\n",
              "      <th>AtomicNumber</th>\n",
              "      <th>Symbol</th>\n",
              "      <th>Name</th>\n",
              "      <th>AtomicMass</th>\n",
              "      <th>CPKHexColor</th>\n",
              "      <th>ElectronConfiguration</th>\n",
              "      <th>Electronegativity</th>\n",
              "      <th>AtomicRadius</th>\n",
              "      <th>IonizationEnergy</th>\n",
              "      <th>ElectronAffinity</th>\n",
              "      <th>OxidationStates</th>\n",
              "      <th>StandardState</th>\n",
              "      <th>MeltingPoint</th>\n",
              "      <th>BoilingPoint</th>\n",
              "      <th>Density</th>\n",
              "      <th>GroupBlock</th>\n",
              "      <th>YearDiscovered</th>\n",
              "    </tr>\n",
              "  </thead>\n",
              "  <tbody>\n",
              "    <tr>\n",
              "      <th>0</th>\n",
              "      <td>1</td>\n",
              "      <td>H</td>\n",
              "      <td>Hydrogen</td>\n",
              "      <td>1.008000</td>\n",
              "      <td>FFFFFF</td>\n",
              "      <td>1s1</td>\n",
              "      <td>2.20</td>\n",
              "      <td>120.0</td>\n",
              "      <td>13.598</td>\n",
              "      <td>0.754</td>\n",
              "      <td>+1, -1</td>\n",
              "      <td>Gas</td>\n",
              "      <td>13.81</td>\n",
              "      <td>20.28</td>\n",
              "      <td>0.000090</td>\n",
              "      <td>Nonmetal</td>\n",
              "      <td>1766</td>\n",
              "    </tr>\n",
              "    <tr>\n",
              "      <th>1</th>\n",
              "      <td>2</td>\n",
              "      <td>He</td>\n",
              "      <td>Helium</td>\n",
              "      <td>4.002600</td>\n",
              "      <td>D9FFFF</td>\n",
              "      <td>1s2</td>\n",
              "      <td>NaN</td>\n",
              "      <td>140.0</td>\n",
              "      <td>24.587</td>\n",
              "      <td>NaN</td>\n",
              "      <td>0</td>\n",
              "      <td>Gas</td>\n",
              "      <td>0.95</td>\n",
              "      <td>4.22</td>\n",
              "      <td>0.000179</td>\n",
              "      <td>Noble gas</td>\n",
              "      <td>1868</td>\n",
              "    </tr>\n",
              "    <tr>\n",
              "      <th>2</th>\n",
              "      <td>3</td>\n",
              "      <td>Li</td>\n",
              "      <td>Lithium</td>\n",
              "      <td>7.000000</td>\n",
              "      <td>CC80FF</td>\n",
              "      <td>[He]2s1</td>\n",
              "      <td>0.98</td>\n",
              "      <td>182.0</td>\n",
              "      <td>5.392</td>\n",
              "      <td>0.618</td>\n",
              "      <td>+1</td>\n",
              "      <td>Solid</td>\n",
              "      <td>453.65</td>\n",
              "      <td>1615.00</td>\n",
              "      <td>0.534000</td>\n",
              "      <td>Alkali metal</td>\n",
              "      <td>1817</td>\n",
              "    </tr>\n",
              "    <tr>\n",
              "      <th>3</th>\n",
              "      <td>4</td>\n",
              "      <td>Be</td>\n",
              "      <td>Beryllium</td>\n",
              "      <td>9.012183</td>\n",
              "      <td>C2FF00</td>\n",
              "      <td>[He]2s2</td>\n",
              "      <td>1.57</td>\n",
              "      <td>153.0</td>\n",
              "      <td>9.323</td>\n",
              "      <td>NaN</td>\n",
              "      <td>+2</td>\n",
              "      <td>Solid</td>\n",
              "      <td>1560.00</td>\n",
              "      <td>2744.00</td>\n",
              "      <td>1.850000</td>\n",
              "      <td>Alkaline earth metal</td>\n",
              "      <td>1798</td>\n",
              "    </tr>\n",
              "    <tr>\n",
              "      <th>4</th>\n",
              "      <td>5</td>\n",
              "      <td>B</td>\n",
              "      <td>Boron</td>\n",
              "      <td>10.810000</td>\n",
              "      <td>FFB5B5</td>\n",
              "      <td>[He]2s2 2p1</td>\n",
              "      <td>2.04</td>\n",
              "      <td>192.0</td>\n",
              "      <td>8.298</td>\n",
              "      <td>0.277</td>\n",
              "      <td>+3</td>\n",
              "      <td>Solid</td>\n",
              "      <td>2348.00</td>\n",
              "      <td>4273.00</td>\n",
              "      <td>2.370000</td>\n",
              "      <td>Metalloid</td>\n",
              "      <td>1808</td>\n",
              "    </tr>\n",
              "  </tbody>\n",
              "</table>\n",
              "</div>\n",
              "    <div class=\"colab-df-buttons\">\n",
              "\n",
              "  <div class=\"colab-df-container\">\n",
              "    <button class=\"colab-df-convert\" onclick=\"convertToInteractive('df-5c3a423a-c194-4db4-8835-74b663eb9ac4')\"\n",
              "            title=\"Convert this dataframe to an interactive table.\"\n",
              "            style=\"display:none;\">\n",
              "\n",
              "  <svg xmlns=\"http://www.w3.org/2000/svg\" height=\"24px\" viewBox=\"0 -960 960 960\">\n",
              "    <path d=\"M120-120v-720h720v720H120Zm60-500h600v-160H180v160Zm220 220h160v-160H400v160Zm0 220h160v-160H400v160ZM180-400h160v-160H180v160Zm440 0h160v-160H620v160ZM180-180h160v-160H180v160Zm440 0h160v-160H620v160Z\"/>\n",
              "  </svg>\n",
              "    </button>\n",
              "\n",
              "  <style>\n",
              "    .colab-df-container {\n",
              "      display:flex;\n",
              "      gap: 12px;\n",
              "    }\n",
              "\n",
              "    .colab-df-convert {\n",
              "      background-color: #E8F0FE;\n",
              "      border: none;\n",
              "      border-radius: 50%;\n",
              "      cursor: pointer;\n",
              "      display: none;\n",
              "      fill: #1967D2;\n",
              "      height: 32px;\n",
              "      padding: 0 0 0 0;\n",
              "      width: 32px;\n",
              "    }\n",
              "\n",
              "    .colab-df-convert:hover {\n",
              "      background-color: #E2EBFA;\n",
              "      box-shadow: 0px 1px 2px rgba(60, 64, 67, 0.3), 0px 1px 3px 1px rgba(60, 64, 67, 0.15);\n",
              "      fill: #174EA6;\n",
              "    }\n",
              "\n",
              "    .colab-df-buttons div {\n",
              "      margin-bottom: 4px;\n",
              "    }\n",
              "\n",
              "    [theme=dark] .colab-df-convert {\n",
              "      background-color: #3B4455;\n",
              "      fill: #D2E3FC;\n",
              "    }\n",
              "\n",
              "    [theme=dark] .colab-df-convert:hover {\n",
              "      background-color: #434B5C;\n",
              "      box-shadow: 0px 1px 3px 1px rgba(0, 0, 0, 0.15);\n",
              "      filter: drop-shadow(0px 1px 2px rgba(0, 0, 0, 0.3));\n",
              "      fill: #FFFFFF;\n",
              "    }\n",
              "  </style>\n",
              "\n",
              "    <script>\n",
              "      const buttonEl =\n",
              "        document.querySelector('#df-5c3a423a-c194-4db4-8835-74b663eb9ac4 button.colab-df-convert');\n",
              "      buttonEl.style.display =\n",
              "        google.colab.kernel.accessAllowed ? 'block' : 'none';\n",
              "\n",
              "      async function convertToInteractive(key) {\n",
              "        const element = document.querySelector('#df-5c3a423a-c194-4db4-8835-74b663eb9ac4');\n",
              "        const dataTable =\n",
              "          await google.colab.kernel.invokeFunction('convertToInteractive',\n",
              "                                                    [key], {});\n",
              "        if (!dataTable) return;\n",
              "\n",
              "        const docLinkHtml = 'Like what you see? Visit the ' +\n",
              "          '<a target=\"_blank\" href=https://colab.research.google.com/notebooks/data_table.ipynb>data table notebook</a>'\n",
              "          + ' to learn more about interactive tables.';\n",
              "        element.innerHTML = '';\n",
              "        dataTable['output_type'] = 'display_data';\n",
              "        await google.colab.output.renderOutput(dataTable, element);\n",
              "        const docLink = document.createElement('div');\n",
              "        docLink.innerHTML = docLinkHtml;\n",
              "        element.appendChild(docLink);\n",
              "      }\n",
              "    </script>\n",
              "  </div>\n",
              "\n",
              "\n",
              "<div id=\"df-8ff99590-b033-4797-97b3-4c7126b36f79\">\n",
              "  <button class=\"colab-df-quickchart\" onclick=\"quickchart('df-8ff99590-b033-4797-97b3-4c7126b36f79')\"\n",
              "            title=\"Suggest charts\"\n",
              "            style=\"display:none;\">\n",
              "\n",
              "<svg xmlns=\"http://www.w3.org/2000/svg\" height=\"24px\"viewBox=\"0 0 24 24\"\n",
              "     width=\"24px\">\n",
              "    <g>\n",
              "        <path d=\"M19 3H5c-1.1 0-2 .9-2 2v14c0 1.1.9 2 2 2h14c1.1 0 2-.9 2-2V5c0-1.1-.9-2-2-2zM9 17H7v-7h2v7zm4 0h-2V7h2v10zm4 0h-2v-4h2v4z\"/>\n",
              "    </g>\n",
              "</svg>\n",
              "  </button>\n",
              "\n",
              "<style>\n",
              "  .colab-df-quickchart {\n",
              "      --bg-color: #E8F0FE;\n",
              "      --fill-color: #1967D2;\n",
              "      --hover-bg-color: #E2EBFA;\n",
              "      --hover-fill-color: #174EA6;\n",
              "      --disabled-fill-color: #AAA;\n",
              "      --disabled-bg-color: #DDD;\n",
              "  }\n",
              "\n",
              "  [theme=dark] .colab-df-quickchart {\n",
              "      --bg-color: #3B4455;\n",
              "      --fill-color: #D2E3FC;\n",
              "      --hover-bg-color: #434B5C;\n",
              "      --hover-fill-color: #FFFFFF;\n",
              "      --disabled-bg-color: #3B4455;\n",
              "      --disabled-fill-color: #666;\n",
              "  }\n",
              "\n",
              "  .colab-df-quickchart {\n",
              "    background-color: var(--bg-color);\n",
              "    border: none;\n",
              "    border-radius: 50%;\n",
              "    cursor: pointer;\n",
              "    display: none;\n",
              "    fill: var(--fill-color);\n",
              "    height: 32px;\n",
              "    padding: 0;\n",
              "    width: 32px;\n",
              "  }\n",
              "\n",
              "  .colab-df-quickchart:hover {\n",
              "    background-color: var(--hover-bg-color);\n",
              "    box-shadow: 0 1px 2px rgba(60, 64, 67, 0.3), 0 1px 3px 1px rgba(60, 64, 67, 0.15);\n",
              "    fill: var(--button-hover-fill-color);\n",
              "  }\n",
              "\n",
              "  .colab-df-quickchart-complete:disabled,\n",
              "  .colab-df-quickchart-complete:disabled:hover {\n",
              "    background-color: var(--disabled-bg-color);\n",
              "    fill: var(--disabled-fill-color);\n",
              "    box-shadow: none;\n",
              "  }\n",
              "\n",
              "  .colab-df-spinner {\n",
              "    border: 2px solid var(--fill-color);\n",
              "    border-color: transparent;\n",
              "    border-bottom-color: var(--fill-color);\n",
              "    animation:\n",
              "      spin 1s steps(1) infinite;\n",
              "  }\n",
              "\n",
              "  @keyframes spin {\n",
              "    0% {\n",
              "      border-color: transparent;\n",
              "      border-bottom-color: var(--fill-color);\n",
              "      border-left-color: var(--fill-color);\n",
              "    }\n",
              "    20% {\n",
              "      border-color: transparent;\n",
              "      border-left-color: var(--fill-color);\n",
              "      border-top-color: var(--fill-color);\n",
              "    }\n",
              "    30% {\n",
              "      border-color: transparent;\n",
              "      border-left-color: var(--fill-color);\n",
              "      border-top-color: var(--fill-color);\n",
              "      border-right-color: var(--fill-color);\n",
              "    }\n",
              "    40% {\n",
              "      border-color: transparent;\n",
              "      border-right-color: var(--fill-color);\n",
              "      border-top-color: var(--fill-color);\n",
              "    }\n",
              "    60% {\n",
              "      border-color: transparent;\n",
              "      border-right-color: var(--fill-color);\n",
              "    }\n",
              "    80% {\n",
              "      border-color: transparent;\n",
              "      border-right-color: var(--fill-color);\n",
              "      border-bottom-color: var(--fill-color);\n",
              "    }\n",
              "    90% {\n",
              "      border-color: transparent;\n",
              "      border-bottom-color: var(--fill-color);\n",
              "    }\n",
              "  }\n",
              "</style>\n",
              "\n",
              "  <script>\n",
              "    async function quickchart(key) {\n",
              "      const quickchartButtonEl =\n",
              "        document.querySelector('#' + key + ' button');\n",
              "      quickchartButtonEl.disabled = true;  // To prevent multiple clicks.\n",
              "      quickchartButtonEl.classList.add('colab-df-spinner');\n",
              "      try {\n",
              "        const charts = await google.colab.kernel.invokeFunction(\n",
              "            'suggestCharts', [key], {});\n",
              "      } catch (error) {\n",
              "        console.error('Error during call to suggestCharts:', error);\n",
              "      }\n",
              "      quickchartButtonEl.classList.remove('colab-df-spinner');\n",
              "      quickchartButtonEl.classList.add('colab-df-quickchart-complete');\n",
              "    }\n",
              "    (() => {\n",
              "      let quickchartButtonEl =\n",
              "        document.querySelector('#df-8ff99590-b033-4797-97b3-4c7126b36f79 button');\n",
              "      quickchartButtonEl.style.display =\n",
              "        google.colab.kernel.accessAllowed ? 'block' : 'none';\n",
              "    })();\n",
              "  </script>\n",
              "</div>\n",
              "\n",
              "    </div>\n",
              "  </div>\n"
            ],
            "application/vnd.google.colaboratory.intrinsic+json": {
              "type": "dataframe",
              "summary": "{\n  \"name\": \"# and so\",\n  \"rows\": 5,\n  \"fields\": [\n    {\n      \"column\": \"AtomicNumber\",\n      \"properties\": {\n        \"dtype\": \"number\",\n        \"std\": 1,\n        \"min\": 1,\n        \"max\": 5,\n        \"num_unique_values\": 5,\n        \"samples\": [\n          2,\n          5,\n          3\n        ],\n        \"semantic_type\": \"\",\n        \"description\": \"\"\n      }\n    },\n    {\n      \"column\": \"Symbol\",\n      \"properties\": {\n        \"dtype\": \"string\",\n        \"num_unique_values\": 5,\n        \"samples\": [\n          \"He\",\n          \"B\",\n          \"Li\"\n        ],\n        \"semantic_type\": \"\",\n        \"description\": \"\"\n      }\n    },\n    {\n      \"column\": \"Name\",\n      \"properties\": {\n        \"dtype\": \"string\",\n        \"num_unique_values\": 5,\n        \"samples\": [\n          \"Helium\",\n          \"Boron\",\n          \"Lithium\"\n        ],\n        \"semantic_type\": \"\",\n        \"description\": \"\"\n      }\n    },\n    {\n      \"column\": \"AtomicMass\",\n      \"properties\": {\n        \"dtype\": \"number\",\n        \"std\": 3.919413172927524,\n        \"min\": 1.008,\n        \"max\": 10.81,\n        \"num_unique_values\": 5,\n        \"samples\": [\n          4.0026,\n          10.81,\n          7.0\n        ],\n        \"semantic_type\": \"\",\n        \"description\": \"\"\n      }\n    },\n    {\n      \"column\": \"CPKHexColor\",\n      \"properties\": {\n        \"dtype\": \"string\",\n        \"num_unique_values\": 5,\n        \"samples\": [\n          \"D9FFFF\",\n          \"FFB5B5\",\n          \"CC80FF\"\n        ],\n        \"semantic_type\": \"\",\n        \"description\": \"\"\n      }\n    },\n    {\n      \"column\": \"ElectronConfiguration\",\n      \"properties\": {\n        \"dtype\": \"string\",\n        \"num_unique_values\": 5,\n        \"samples\": [\n          \"1s2\",\n          \"[He]2s2 2p1\",\n          \"[He]2s1\"\n        ],\n        \"semantic_type\": \"\",\n        \"description\": \"\"\n      }\n    },\n    {\n      \"column\": \"Electronegativity\",\n      \"properties\": {\n        \"dtype\": \"number\",\n        \"std\": 0.547988746843096,\n        \"min\": 0.98,\n        \"max\": 2.2,\n        \"num_unique_values\": 4,\n        \"samples\": [\n          0.98,\n          2.04,\n          2.2\n        ],\n        \"semantic_type\": \"\",\n        \"description\": \"\"\n      }\n    },\n    {\n      \"column\": \"AtomicRadius\",\n      \"properties\": {\n        \"dtype\": \"number\",\n        \"std\": 29.678274882479272,\n        \"min\": 120.0,\n        \"max\": 192.0,\n        \"num_unique_values\": 5,\n        \"samples\": [\n          140.0,\n          192.0,\n          182.0\n        ],\n        \"semantic_type\": \"\",\n        \"description\": \"\"\n      }\n    },\n    {\n      \"column\": \"IonizationEnergy\",\n      \"properties\": {\n        \"dtype\": \"number\",\n        \"std\": 7.503931123084753,\n        \"min\": 5.392,\n        \"max\": 24.587,\n        \"num_unique_values\": 5,\n        \"samples\": [\n          24.587,\n          8.298,\n          5.392\n        ],\n        \"semantic_type\": \"\",\n        \"description\": \"\"\n      }\n    },\n    {\n      \"column\": \"ElectronAffinity\",\n      \"properties\": {\n        \"dtype\": \"number\",\n        \"std\": 0.24573223910047565,\n        \"min\": 0.277,\n        \"max\": 0.754,\n        \"num_unique_values\": 3,\n        \"samples\": [\n          0.754,\n          0.618,\n          0.277\n        ],\n        \"semantic_type\": \"\",\n        \"description\": \"\"\n      }\n    },\n    {\n      \"column\": \"OxidationStates\",\n      \"properties\": {\n        \"dtype\": \"string\",\n        \"num_unique_values\": 5,\n        \"samples\": [\n          \"0\",\n          \"+3\",\n          \"+1\"\n        ],\n        \"semantic_type\": \"\",\n        \"description\": \"\"\n      }\n    },\n    {\n      \"column\": \"StandardState\",\n      \"properties\": {\n        \"dtype\": \"category\",\n        \"num_unique_values\": 2,\n        \"samples\": [\n          \"Solid\",\n          \"Gas\"\n        ],\n        \"semantic_type\": \"\",\n        \"description\": \"\"\n      }\n    },\n    {\n      \"column\": \"MeltingPoint\",\n      \"properties\": {\n        \"dtype\": \"number\",\n        \"std\": 1039.4831700753987,\n        \"min\": 0.95,\n        \"max\": 2348.0,\n        \"num_unique_values\": 5,\n        \"samples\": [\n          0.95,\n          2348.0\n        ],\n        \"semantic_type\": \"\",\n        \"description\": \"\"\n      }\n    },\n    {\n      \"column\": \"BoilingPoint\",\n      \"properties\": {\n        \"dtype\": \"number\",\n        \"std\": 1830.9642703231539,\n        \"min\": 4.22,\n        \"max\": 4273.0,\n        \"num_unique_values\": 5,\n        \"samples\": [\n          4.22,\n          4273.0\n        ],\n        \"semantic_type\": \"\",\n        \"description\": \"\"\n      }\n    },\n    {\n      \"column\": \"Density\",\n      \"properties\": {\n        \"dtype\": \"number\",\n        \"std\": 1.0958948939254052,\n        \"min\": 8.988e-05,\n        \"max\": 2.37,\n        \"num_unique_values\": 5,\n        \"samples\": [\n          0.0001785,\n          2.37\n        ],\n        \"semantic_type\": \"\",\n        \"description\": \"\"\n      }\n    },\n    {\n      \"column\": \"GroupBlock\",\n      \"properties\": {\n        \"dtype\": \"string\",\n        \"num_unique_values\": 5,\n        \"samples\": [\n          \"Noble gas\",\n          \"Metalloid\"\n        ],\n        \"semantic_type\": \"\",\n        \"description\": \"\"\n      }\n    },\n    {\n      \"column\": \"YearDiscovered\",\n      \"properties\": {\n        \"dtype\": \"object\",\n        \"num_unique_values\": 5,\n        \"samples\": [\n          \"1868\",\n          \"1808\"\n        ],\n        \"semantic_type\": \"\",\n        \"description\": \"\"\n      }\n    }\n  ]\n}"
            }
          },
          "metadata": {},
          "execution_count": 7
        }
      ],
      "source": [
        "# Data Creating and reading/importing/fetching from file and converting dataFrame\n",
        "# Read csv file and store as a dataFrame\n",
        "df = pd.read_csv('https://raw.githubusercontent.com/jsdhami/Python-For-Research/main/Data/p_table.csv')\n",
        "df.head()\n",
        "# read excel file\n",
        "# df = pd.read_excel(\"titanic.xlsx\", sheet_name=\"passengers\")\n",
        "\n",
        "# read html file\n",
        "# df = pd.read_html(\"https://www.fdic.gov/bank/individual/failed/banklist.html\")\n",
        "\n",
        "# read json data read\n",
        "# df = pd.read_json('data.json')\n",
        "# and so...on"
      ]
    },
    {
      "cell_type": "markdown",
      "metadata": {
        "id": "q0Nbr7tI5V6Z"
      },
      "source": [
        "# Data Creating by using numpy array"
      ]
    },
    {
      "cell_type": "code",
      "execution_count": 9,
      "metadata": {
        "colab": {
          "base_uri": "https://localhost:8080/"
        },
        "id": "fKCbR3ou5TMe",
        "outputId": "e7b07a05-51c3-4623-d6a7-7009de64eee0"
      },
      "outputs": [
        {
          "output_type": "stream",
          "name": "stdout",
          "text": [
            "[ 0.76860793 -1.87574044  1.7952125  -2.11063337 -0.96486458  0.38068597]\n",
            "[-0.35043629  1.73343501 -0.47451501 -0.39718791 -0.82786642]\n"
          ]
        }
      ],
      "source": [
        "import numpy as np\n",
        "# creating by using python in build data type\n",
        "X=[1,2,3,4,5]\n",
        "Y=[1,2,3,4,5]\n",
        "Xarray = np.array(X)\n",
        "Yarray = np.array(Y)\n",
        "\n",
        "#Or\n",
        "#arrang function syntax:\n",
        "#start, end, step_interval\n",
        "Xarray = np.arange(1,6, 0.5)\n",
        "Yarray = np.arange(1,6,0.5)\n",
        "\n",
        "# linespace function syntax:\n",
        "#start, end, total_number\n",
        "Xarray = np.linspace(1,5,6)\n",
        "Yarray = np.linspace(1,5,5)\n",
        "\n",
        "#Or\n",
        "#random function syntax:\n",
        "#start, end, total_number\n",
        "Xarray = np.random.randint(1,5,6)\n",
        "Yarray = np.random.randint(1,5,5)\n",
        "\n",
        "#Or\n",
        "#another randoom ...function\n",
        "Xarray = np.random.normal(1,5,6)\n",
        "Yarray = np.random.normal(1,5,5)\n",
        "\n",
        "#Or\n",
        "Xarray = np.random.uniform(1,5,6)\n",
        "Yarray = np.random.uniform(1,5,5)\n",
        "\n",
        "#Or\n",
        "Xarray = np.random.rand(6)\n",
        "Yarray = np.random.rand(5)\n",
        "\n",
        "#Or\n",
        "Xarray = np.random.rand(6)\n",
        "Yarray = np.random.rand(5)\n",
        "\n",
        "#Or\n",
        "Xarray = np.random.randn(6)\n",
        "Yarray = np.random.randn(5)\n",
        "\n",
        "\n",
        "print(Xarray)\n",
        "print(Yarray)\n",
        "\n"
      ]
    },
    {
      "cell_type": "markdown",
      "metadata": {
        "id": "02VVS4VkCVFd"
      },
      "source": [
        "# DataFrame and Series\n"
      ]
    },
    {
      "cell_type": "code",
      "execution_count": 10,
      "metadata": {
        "colab": {
          "base_uri": "https://localhost:8080/"
        },
        "id": "P0M1Sso16nsZ",
        "outputId": "6fc7d2f4-0905-4043-984d-8adb7f208bc1"
      },
      "outputs": [
        {
          "output_type": "stream",
          "name": "stdout",
          "text": [
            "0    1\n",
            "1    2\n",
            "2    3\n",
            "3    4\n",
            "4    5\n",
            "5    6\n",
            "6    7\n",
            "dtype: int64\n",
            "3\n",
            "a    1\n",
            "b    2\n",
            "c    3\n",
            "d    4\n",
            "e    5\n",
            "f    6\n",
            "g    7\n",
            "dtype: int64\n",
            "3\n"
          ]
        }
      ],
      "source": [
        "#Series\n",
        "'''\n",
        "A pandas series is like a column in a table.\n",
        "It is a one-dimensional array holding data of any type.\n",
        "'''\n",
        "X=[1,2,3,4,5]\n",
        "Y=[1,2,3,4,5,6,7]\n",
        "#Create Series\n",
        "ser=pd.Series(Y)\n",
        "print(ser)\n",
        "\n",
        "print(ser[2])\n",
        "\n",
        "# Labelling series data\n",
        "ser=pd.Series(Y,index=['a','b','c','d','e','f','g'])\n",
        "print(ser)\n",
        "print(ser['c'])"
      ]
    },
    {
      "cell_type": "code",
      "execution_count": 11,
      "metadata": {
        "colab": {
          "base_uri": "https://localhost:8080/"
        },
        "id": "GrJKZAX5FIa-",
        "outputId": "c8cbde91-68c9-42fc-e10e-6e6055f68315"
      },
      "outputs": [
        {
          "output_type": "stream",
          "name": "stdout",
          "text": [
            "    students  marks\n",
            "0  Dhirendra    100\n",
            "1    saksham     60\n",
            "2      amrit     80\n",
            "3       None     70\n",
            "4      suman     74\n",
            "0    Dhirendra\n",
            "1      saksham\n",
            "2        amrit\n",
            "3         None\n",
            "4        suman\n",
            "Name: students, dtype: object\n",
            "0    100\n",
            "1     60\n",
            "2     80\n",
            "3     70\n",
            "4     74\n",
            "Name: marks, dtype: int64\n",
            "students    Dhirendra\n",
            "marks             100\n",
            "Name: 0, dtype: object\n",
            "    students  marks\n",
            "0  Dhirendra    100\n",
            "1    saksham     60\n",
            "         students  marks\n",
            "first   Dhirendra    100\n",
            "second    saksham     60\n",
            "third       amrit     80\n",
            "fourth       None     70\n",
            "fifth       suman     74\n",
            "students    Dhirendra\n",
            "marks             100\n",
            "Name: first, dtype: object\n",
            "<class 'pandas.core.frame.DataFrame'>\n",
            "Index: 5 entries, first to fifth\n",
            "Data columns (total 2 columns):\n",
            " #   Column    Non-Null Count  Dtype \n",
            "---  ------    --------------  ----- \n",
            " 0   students  4 non-null      object\n",
            " 1   marks     5 non-null      int64 \n",
            "dtypes: int64(1), object(1)\n",
            "memory usage: 292.0+ bytes\n"
          ]
        }
      ],
      "source": [
        "#Data Frame\n",
        "'''\n",
        "A Pandas DataFrame is a 2-dimensional data structure,\n",
        "like a 2-dimensional array, or a table with rows and columns.\n",
        "'''\n",
        "myData={\n",
        "    \"students\":[\"Dhirendra\",\"saksham\",\"amrit\",None,\"suman\"],\n",
        "    \"marks\":[100,60,80,70,74],\n",
        "}\n",
        "\n",
        "#Create Dataframe\n",
        "df=pd.DataFrame(myData)\n",
        "print(df)\n",
        "\n",
        "#Column select\n",
        "print(df['students'])\n",
        "print(df['marks'])\n",
        "\n",
        "#refer to the row index:\n",
        "print(df.loc[0])\n",
        "\n",
        "#use a list of indexs:\n",
        "print(df.iloc[[0,1]])\n",
        "\n",
        "#Labelling\n",
        "df=pd.DataFrame(myData,index=['first','second','third','fourth','fifth'])\n",
        "print(df)\n",
        "\n",
        "print(df.loc['first'])\n",
        "df.info()\n"
      ]
    },
    {
      "cell_type": "markdown",
      "metadata": {
        "id": "eXgGsUdSKelr"
      },
      "source": [
        "# Data Analysis"
      ]
    },
    {
      "cell_type": "code",
      "execution_count": 12,
      "metadata": {
        "colab": {
          "base_uri": "https://localhost:8080/"
        },
        "id": "cONxaRifGiPC",
        "outputId": "0b8d6ab2-4238-48c3-b618-cbf5251d7d66"
      },
      "outputs": [
        {
          "output_type": "stream",
          "name": "stdout",
          "text": [
            "<class 'pandas.core.frame.DataFrame'>\n",
            "Index: 5 entries, first to fifth\n",
            "Data columns (total 2 columns):\n",
            " #   Column    Non-Null Count  Dtype \n",
            "---  ------    --------------  ----- \n",
            " 0   students  4 non-null      object\n",
            " 1   marks     5 non-null      int64 \n",
            "dtypes: int64(1), object(1)\n",
            "memory usage: 292.0+ bytes\n"
          ]
        }
      ],
      "source": [
        "# to see top datas\n",
        "df.head()\n",
        "# to see bottom datas\n",
        "df.tail()\n",
        "\n",
        "#to see custom no. of datas\n",
        "df.head(3)\n",
        "\n",
        "#to see info about data\n",
        "df.info()"
      ]
    },
    {
      "cell_type": "markdown",
      "metadata": {
        "id": "ZM1GrkrXMuYx"
      },
      "source": [
        "# Data cleaning\n",
        "Data cleaning means fixing bad data in ypur data set\n",
        "\n",
        "**Bad data be like:**\n",
        "\n",
        "\n",
        "*   Empty cells\n",
        "*   Data in wrong format\n",
        "*   Wrong data\n",
        "*   Duplicates"
      ]
    },
    {
      "cell_type": "code",
      "execution_count": 13,
      "metadata": {
        "colab": {
          "base_uri": "https://localhost:8080/"
        },
        "id": "w0agLGgLNFy3",
        "outputId": "4d7501b1-c62f-4e16-e822-c1e42aa88dec"
      },
      "outputs": [
        {
          "output_type": "stream",
          "name": "stdout",
          "text": [
            "         students  marks\n",
            "first   Dhirendra    100\n",
            "second    saksham     60\n",
            "third       amrit     80\n",
            "fifth       suman     74\n"
          ]
        }
      ],
      "source": [
        "# removing empty cell [row X column]\n",
        "myData={\n",
        "    \"students\":[\"Dhirendra\",\"saksham\",\"amrit\",None,\"suman\"],\n",
        "    \"marks\":[100,60,80,70,74],\n",
        "}\n",
        "\n",
        "#creating DataFrame\n",
        "df=pd.DataFrame(myData)\n",
        "df=pd.DataFrame(myData, index=['first','second','third','fourth','fifth'])\n",
        "\n",
        "new_df=df.dropna()\n",
        "\n",
        "print(new_df.to_string())"
      ]
    },
    {
      "cell_type": "code",
      "execution_count": null,
      "metadata": {
        "colab": {
          "base_uri": "https://localhost:8080/"
        },
        "id": "Q-Y_o6sJWknO",
        "outputId": "b8c26144-e6d7-458e-e3ca-3221823b157f"
      },
      "outputs": [
        {
          "name": "stdout",
          "output_type": "stream",
          "text": [
            "         students  marks\n",
            "first   Dhirendra    100\n",
            "second    saksham     60\n",
            "third       amrit     80\n",
            "fifth       suman     74\n"
          ]
        }
      ],
      "source": [
        "# remove all rows with Null value\n",
        "myData={\n",
        "    \"students\":[\"Dhirendra\",\"saksham\",\"amrit\",None,\"suman\"],\n",
        "    \"marks\":[100,60,80,70,74],\n",
        "}\n",
        "\n",
        "# Create DataFrame\n",
        "df=pd.DataFrame(myData)\n",
        "df=pd.DataFrame(myData, index=['first','second','third','fourth','fifth'])\n",
        "df.dropna(inplace=True)\n",
        "print(df.to_string())"
      ]
    },
    {
      "cell_type": "code",
      "execution_count": 14,
      "metadata": {
        "colab": {
          "base_uri": "https://localhost:8080/"
        },
        "id": "3jOw65iyXU0d",
        "outputId": "07ec29f1-e887-41f0-df7b-e32b9d9c2b30"
      },
      "outputs": [
        {
          "output_type": "stream",
          "name": "stdout",
          "text": [
            "    students  marks\n",
            "a  Dhirendra    100\n",
            "b    saksham     60\n",
            "c      amrit     80\n",
            "e      suman     74\n"
          ]
        }
      ],
      "source": [
        "# Replace Only For Specified Columns\n",
        "\n",
        "myData={\n",
        "    \"students\":[\"Dhirendra\",\"saksham\",\"amrit\",None,\"suman\"],\n",
        "    \"marks\":[100,60,80,70,74],\n",
        "}\n",
        "\n",
        "# Create DataFrame\n",
        "df=pd.DataFrame(myData)\n",
        "df=pd.DataFrame(myData, index=['a', 'b', 'c', 'd', 'e'])\n",
        "df.dropna(inplace=True)\n",
        "print(df.to_string())"
      ]
    },
    {
      "cell_type": "code",
      "execution_count": 15,
      "metadata": {
        "colab": {
          "base_uri": "https://localhost:8080/"
        },
        "id": "mdnvdksUYan3",
        "outputId": "98a11ca5-a7c2-4e1c-92a2-6e0b34396f15"
      },
      "outputs": [
        {
          "output_type": "stream",
          "name": "stdout",
          "text": [
            "    students  marks\n",
            "a  Dhirendra    100\n",
            "b    saksham     60\n",
            "c      amrit     80\n",
            "d        Ram     70\n",
            "e      suman     74\n"
          ]
        }
      ],
      "source": [
        "#Replace null values with the number \"Ram\":\n",
        "myData={\n",
        "    \"students\":[\"Dhirendra\",\"saksham\",\"amrit\",None,\"suman\"],\n",
        "    \"marks\":[100,60,80,70,74],\n",
        "}\n",
        "\n",
        "# Create DataFrame\n",
        "df=pd.DataFrame(myData)\n",
        "df=pd.DataFrame(myData, index=['a', 'b', 'c', 'd', 'e'])\n",
        "df.fillna(\"Ram\", inplace=True)\n",
        "print(df.to_string())"
      ]
    },
    {
      "cell_type": "code",
      "execution_count": null,
      "metadata": {
        "colab": {
          "base_uri": "https://localhost:8080/"
        },
        "id": "GAyOEDPcZExa",
        "outputId": "911badbe-9baf-4b71-e9d2-ad78e8c7dd92"
      },
      "outputs": [
        {
          "name": "stdout",
          "output_type": "stream",
          "text": [
            "    students  marks\n",
            "a  Dhirendra  100.0\n",
            "b    saksham   60.0\n",
            "c      amrit    NaN\n",
            "d       None   80.0\n",
            "e      suman   70.0\n"
          ]
        }
      ],
      "source": [
        "#Replace Only For specified columns\n",
        "myData={\n",
        "    \"students\":[\"Dhirendra\",\"saksham\",\"amrit\",None,\"suman\"],\n",
        "    \"marks\":[100,60,None,80,70], # Added a None value to make the list length the same as the students list\n",
        "}\n",
        "\n",
        "# Create DataFrame\n",
        "df=pd.DataFrame(myData)\n",
        "df=pd.DataFrame(myData, index=['a', 'b', 'c', 'd', 'e'])\n",
        "#df['students'].fillna(\"Ram\", inplace=True)\n",
        "#df['marks'].fillna(500, inplace=True) #not updating because of non Null data\n",
        "print(df.to_string())"
      ]
    },
    {
      "cell_type": "code",
      "execution_count": 16,
      "metadata": {
        "colab": {
          "base_uri": "https://localhost:8080/"
        },
        "id": "pAyG0FpRcW3F",
        "outputId": "cec1ac87-ec86-47b9-ccc4-54f416fe5ba1"
      },
      "outputs": [
        {
          "output_type": "stream",
          "name": "stdout",
          "text": [
            "    students  marks\n",
            "a  Dhirendra  100.0\n",
            "b    saksham   81.0\n",
            "c      amrit   80.0\n",
            "d       None   70.0\n",
            "e      suman   74.0\n"
          ]
        }
      ],
      "source": [
        "#Replace Using Mean, Median or Mode\n",
        "#Pandas uses the mean() median() and mode() method to calculate the respective values for a specified column:\n",
        "mydata={\n",
        "    \"students\":[\"Dhirendra\",\"saksham\",\"amrit\",\"None\",\"suman\"],\n",
        "    \"marks\":[100,None,80,70,74],\n",
        "}\n",
        "\n",
        "# Create DataFrame\n",
        "df=pd.DataFrame(mydata)\n",
        "df=pd.DataFrame(mydata, index=['a', 'b', 'c', 'd', 'e'])\n",
        "\n",
        "#Using Mean\n",
        "# Mean= the average value (the sum of all values divided by number of values)\n",
        "sakNum=df['marks'].mean()\n",
        "df['marks'].fillna(sakNum, inplace=True)\n",
        "print(df.to_string())"
      ]
    },
    {
      "cell_type": "code",
      "execution_count": 17,
      "metadata": {
        "colab": {
          "base_uri": "https://localhost:8080/"
        },
        "id": "UCLb4_9CeKNp",
        "outputId": "4fd8d801-3c3f-4068-df25-b2f63d452b74"
      },
      "outputs": [
        {
          "output_type": "stream",
          "name": "stdout",
          "text": [
            "    students  marks\n",
            "a  Dhirendra  100.0\n",
            "b    saksham   77.0\n",
            "c      amrit   80.0\n",
            "d       None   70.0\n",
            "e      suman   74.0\n"
          ]
        }
      ],
      "source": [
        "#Using median\n",
        "#Median = the value in the middle , after you have sorted all values ascending.\n",
        "mydata={\n",
        "    \"students\":[\"Dhirendra\",\"saksham\",\"amrit\",\"None\",\"suman\"],\n",
        "    \"marks\":[100,None,80,70,74],\n",
        "}\n",
        "\n",
        "#Create DataFrame\n",
        "df=pd.DataFrame(mydata)\n",
        "df=pd.DataFrame(mydata, index=['a', 'b', 'c', 'd', 'e'])\n",
        "df['marks'].fillna(df['marks'].median(), inplace=True)\n",
        "print(df.to_string())"
      ]
    },
    {
      "cell_type": "code",
      "execution_count": 18,
      "metadata": {
        "colab": {
          "base_uri": "https://localhost:8080/"
        },
        "id": "3m_X1J4LfC8r",
        "outputId": "1cf1295f-8413-4de8-e556-6cd7744b4852"
      },
      "outputs": [
        {
          "output_type": "stream",
          "name": "stdout",
          "text": [
            "    students  marks\n",
            "a  Dhirendra  100.0\n",
            "b    saksham   70.0\n",
            "c      amrit   80.0\n",
            "d       None   70.0\n",
            "e      suman   74.0\n"
          ]
        }
      ],
      "source": [
        "#Using Mode\n",
        "#Mode= The value that appears most frequently.\n",
        "mydata={\n",
        "    \"students\":[\"Dhirendra\",\"saksham\",\"amrit\",\"None\",\"suman\"],\n",
        "    \"marks\":[100,None,80,70,74],\n",
        "}\n",
        "#Create DataFrame\n",
        "df=pd.DataFrame(mydata)\n",
        "df=pd.DataFrame(mydata, index=['a', 'b', 'c', 'd', 'e'])\n",
        "\n",
        "df['marks'].fillna(df['marks'].mode()[0], inplace=True)\n",
        "print(df.to_string())\n",
        "\n",
        "\n",
        "\n"
      ]
    },
    {
      "cell_type": "markdown",
      "metadata": {
        "id": "vUyUPzTkfue4"
      },
      "source": [
        "# Data cleaning - Wrong Format\n",
        "\n",
        "\n",
        "*   cells with data of wrong format can make it difficult, or even impossible, to analyze data.\n",
        "\n",
        "*   To fix it, you have two option: remove the rows,or convert all cells in the columns into the same format.\n",
        "\n",
        "\n"
      ]
    },
    {
      "cell_type": "code",
      "execution_count": 19,
      "metadata": {
        "colab": {
          "base_uri": "https://localhost:8080/"
        },
        "id": "TFWTpYcQfqXG",
        "outputId": "10431791-1cd7-41de-da61-cb4943a70c69"
      },
      "outputs": [
        {
          "output_type": "stream",
          "name": "stdout",
          "text": [
            "    Duration          Date  Pulse  Maxpulse  Calories\n",
            "0         60  '2020/12/01'    110       130     409.1\n",
            "1         60  '2020/12/02'    117       145     479.0\n",
            "2         60  '2020/12/03'    103       135     340.0\n",
            "3         45  '2020/12/04'    109       175     282.4\n",
            "4         45  '2020/12/05'    117       148     406.0\n",
            "5         60  '2020/12/06'    102       127     300.0\n",
            "6         60  '2020/12/07'    110       136     374.0\n",
            "7        450  '2020/12/08'    104       134     253.3\n",
            "8         30  '2020/12/09'    109       133     195.1\n",
            "9         60  '2020/12/10'     98       124     269.0\n",
            "10        60  '2020/12/11'    103       147     329.3\n",
            "11        60  '2020/12/12'    100       120     250.7\n",
            "12        60  '2020/12/12'    100       120     250.7\n",
            "13        60  '2020/12/13'    106       128     345.3\n",
            "14        60  '2020/12/14'    104       132     379.3\n",
            "15        60  '2020/12/15'     98       123     275.0\n",
            "16        60  '2020/12/16'     98       120     215.2\n",
            "17        60  '2020/12/17'    100       120     300.0\n",
            "18        45  '2020/12/18'     90       112       NaN\n",
            "19        60  '2020/12/19'    103       123     323.0\n",
            "20        45  '2020/12/20'     97       125     243.0\n",
            "21        60  '2020/12/21'    108       131     364.2\n",
            "22        45           NaN    100       119     282.0\n",
            "23        60  '2020/12/23'    130       101     300.0\n",
            "24        45  '2020/12/24'    105       132     246.0\n",
            "25        60  '2020/12/25'    102       126     334.5\n",
            "26        60      20201226    100       120     250.0\n",
            "27        60  '2020/12/27'     92       118     241.0\n",
            "28        60  '2020/12/28'    103       132       NaN\n",
            "29        60  '2020/12/29'    100       132     280.0\n",
            "30        60  '2020/12/30'    102       129     380.3\n",
            "31        60  '2020/12/31'     92       115     243.0\n"
          ]
        }
      ],
      "source": [
        "df=pd.read_csv('https://raw.githubusercontent.com/jsdhami/Python-For-Research/main/Data/data.csv')\n",
        "print(df.to_string())"
      ]
    },
    {
      "cell_type": "code",
      "execution_count": 20,
      "metadata": {
        "colab": {
          "base_uri": "https://localhost:8080/"
        },
        "id": "5ALKBDeVhKbU",
        "outputId": "191a8891-b4b5-4110-bd76-4c2f03f0bad1"
      },
      "outputs": [
        {
          "output_type": "stream",
          "name": "stdout",
          "text": [
            "    Duration          Date  Pulse  Maxpulse  Calories\n",
            "0         60  '2020/12/01'    110       130     409.1\n",
            "1         60  '2020/12/02'    117       145     479.0\n",
            "2         60  '2020/12/03'    103       135     340.0\n",
            "3         45  '2020/12/04'    109       175     282.4\n",
            "4         45  '2020/12/05'    117       148     406.0\n",
            "5         60  '2020/12/06'    102       127     300.0\n",
            "6         60  '2020/12/07'    110       136     374.0\n",
            "7        450  '2020/12/08'    104       134     253.3\n",
            "8         30  '2020/12/09'    109       133     195.1\n",
            "9         60  '2020/12/10'     98       124     269.0\n",
            "10        60  '2020/12/11'    103       147     329.3\n",
            "11        60  '2020/12/12'    100       120     250.7\n",
            "12        60  '2020/12/12'    100       120     250.7\n",
            "13        60  '2020/12/13'    106       128     345.3\n",
            "14        60  '2020/12/14'    104       132     379.3\n",
            "15        60  '2020/12/15'     98       123     275.0\n",
            "16        60  '2020/12/16'     98       120     215.2\n",
            "17        60  '2020/12/17'    100       120     300.0\n",
            "19        60  '2020/12/19'    103       123     323.0\n",
            "20        45  '2020/12/20'     97       125     243.0\n",
            "21        60  '2020/12/21'    108       131     364.2\n",
            "23        60  '2020/12/23'    130       101     300.0\n",
            "24        45  '2020/12/24'    105       132     246.0\n",
            "25        60  '2020/12/25'    102       126     334.5\n",
            "26        60      20201226    100       120     250.0\n",
            "27        60  '2020/12/27'     92       118     241.0\n",
            "29        60  '2020/12/29'    100       132     280.0\n",
            "30        60  '2020/12/30'    102       129     380.3\n",
            "31        60  '2020/12/31'     92       115     243.0\n",
            "    Duration       Date  Pulse  Maxpulse  Calories\n",
            "0         60 2020-12-01    110       130     409.1\n",
            "1         60 2020-12-02    117       145     479.0\n",
            "2         60 2020-12-03    103       135     340.0\n",
            "3         45 2020-12-04    109       175     282.4\n",
            "4         45 2020-12-05    117       148     406.0\n",
            "5         60 2020-12-06    102       127     300.0\n",
            "6         60 2020-12-07    110       136     374.0\n",
            "7        450 2020-12-08    104       134     253.3\n",
            "8         30 2020-12-09    109       133     195.1\n",
            "9         60 2020-12-10     98       124     269.0\n",
            "10        60 2020-12-11    103       147     329.3\n",
            "11        60 2020-12-12    100       120     250.7\n",
            "12        60 2020-12-12    100       120     250.7\n",
            "13        60 2020-12-13    106       128     345.3\n",
            "14        60 2020-12-14    104       132     379.3\n",
            "15        60 2020-12-15     98       123     275.0\n",
            "16        60 2020-12-16     98       120     215.2\n",
            "17        60 2020-12-17    100       120     300.0\n",
            "19        60 2020-12-19    103       123     323.0\n",
            "20        45 2020-12-20     97       125     243.0\n",
            "21        60 2020-12-21    108       131     364.2\n",
            "23        60 2020-12-23    130       101     300.0\n",
            "24        45 2020-12-24    105       132     246.0\n",
            "25        60 2020-12-25    102       126     334.5\n",
            "26        60 2020-12-26    100       120     250.0\n",
            "27        60 2020-12-27     92       118     241.0\n",
            "29        60 2020-12-29    100       132     280.0\n",
            "30        60 2020-12-30    102       129     380.3\n",
            "31        60 2020-12-31     92       115     243.0\n"
          ]
        }
      ],
      "source": [
        "#remove null value include row\n",
        "df.dropna(subset=['Date'], inplace=True)\n",
        "df.dropna(subset=['Calories'], inplace=True)\n",
        "print(df.to_string())\n",
        "\n",
        "df['Date'] = pd.to_datetime(df['Date'], format='mixed')\n",
        "\n",
        "print(df.to_string())"
      ]
    },
    {
      "cell_type": "markdown",
      "metadata": {
        "id": "qyFW5gZYjoLM"
      },
      "source": [
        "## Removing Wrong Data\n",
        "*   \"Wrong Data\" does not have to be \"empty cells\" or \"Wrong format\", it can just be wrong , like if someone registered \"199\" in stead of 1.99 ."
      ]
    },
    {
      "cell_type": "code",
      "execution_count": 21,
      "metadata": {
        "colab": {
          "base_uri": "https://localhost:8080/"
        },
        "id": "C0f-RHw1kLci",
        "outputId": "931b11e9-6688-4811-a65d-ac51ac4784c6"
      },
      "outputs": [
        {
          "output_type": "stream",
          "name": "stdout",
          "text": [
            "    Duration       Date  Pulse  Maxpulse  Calories\n",
            "0         60 2020-12-01    110       130     409.1\n",
            "1         60 2020-12-02    117       145     479.0\n",
            "2         60 2020-12-03    103       135     340.0\n",
            "3         45 2020-12-04    109       175     282.4\n",
            "4         45 2020-12-05    117       148     406.0\n",
            "5         60 2020-12-06    102       127     300.0\n",
            "6         60 2020-12-07    110       136     374.0\n",
            "7         45 2020-12-08    104       134     253.3\n",
            "8         30 2020-12-09    109       133     195.1\n",
            "9         60 2020-12-10     98       124     269.0\n",
            "10        60 2020-12-11    103       147     329.3\n",
            "11        60 2020-12-12    100       120     250.7\n",
            "12        60 2020-12-12    100       120     250.7\n",
            "13        60 2020-12-13    106       128     345.3\n",
            "14        60 2020-12-14    104       132     379.3\n",
            "15        60 2020-12-15     98       123     275.0\n",
            "16        60 2020-12-16     98       120     215.2\n",
            "17        60 2020-12-17    100       120     300.0\n",
            "19        60 2020-12-19    103       123     323.0\n",
            "20        45 2020-12-20     97       125     243.0\n",
            "21        60 2020-12-21    108       131     364.2\n",
            "23        60 2020-12-23    130       101     300.0\n",
            "24        45 2020-12-24    105       132     246.0\n",
            "25        60 2020-12-25    102       126     334.5\n",
            "26        60 2020-12-26    100       120     250.0\n",
            "27        60 2020-12-27     92       118     241.0\n",
            "29        60 2020-12-29    100       132     280.0\n",
            "30        60 2020-12-30    102       129     380.3\n",
            "31        60 2020-12-31     92       115     243.0\n"
          ]
        }
      ],
      "source": [
        "#replace value\n",
        "df.loc[7, 'Duration'] = 45\n",
        "print(df.to_string())"
      ]
    },
    {
      "cell_type": "code",
      "execution_count": 22,
      "metadata": {
        "colab": {
          "base_uri": "https://localhost:8080/"
        },
        "id": "Eu_Mehc6i8cB",
        "outputId": "77863998-bcf2-4141-ea73-ff24bf86b5fc"
      },
      "outputs": [
        {
          "output_type": "stream",
          "name": "stdout",
          "text": [
            "    Duration       Date  Pulse  Maxpulse  Calories\n",
            "0         60 2020-12-01    110       130     409.1\n",
            "1         60 2020-12-02    117       145     479.0\n",
            "2         60 2020-12-03    103       135     340.0\n",
            "3         45 2020-12-04    109       175     282.4\n",
            "4         45 2020-12-05    117       148     406.0\n",
            "5         60 2020-12-06    102       127     300.0\n",
            "6         60 2020-12-07    110       136     374.0\n",
            "7         45 2020-12-08    104       134     253.3\n",
            "8         30 2020-12-09    109       133     195.1\n",
            "9         60 2020-12-10     98       124     269.0\n",
            "10        60 2020-12-11    103       147     329.3\n",
            "11        60 2020-12-12    100       120     250.7\n",
            "12        60 2020-12-12    100       120     250.7\n",
            "13        60 2020-12-13    106       128     345.3\n",
            "14        60 2020-12-14    104       132     379.3\n",
            "16        60 2020-12-16     98       120     215.2\n",
            "17        60 2020-12-17    100       120     300.0\n",
            "19        60 2020-12-19    103       123     323.0\n",
            "20        45 2020-12-20     97       125     243.0\n",
            "21        60 2020-12-21    108       131     364.2\n",
            "23        60 2020-12-23    130       101     300.0\n",
            "24        45 2020-12-24    105       132     246.0\n",
            "25        60 2020-12-25    102       126     334.5\n",
            "26        60 2020-12-26    100       120     250.0\n",
            "27        60 2020-12-27     92       118     241.0\n",
            "29        60 2020-12-29    100       132     280.0\n",
            "30        60 2020-12-30    102       129     380.3\n",
            "31        60 2020-12-31     92       115     243.0\n"
          ]
        }
      ],
      "source": [
        "#remove\n",
        "df.drop(df.index[15], inplace=True)\n",
        "print(df.to_string())"
      ]
    },
    {
      "cell_type": "markdown",
      "metadata": {
        "id": "0wtOQtBCldgu"
      },
      "source": [
        "# Removing Duplicates\n",
        "*  Duplicate rows are rows that have been regestered more than one time"
      ]
    },
    {
      "cell_type": "code",
      "execution_count": 26,
      "metadata": {
        "colab": {
          "base_uri": "https://localhost:8080/"
        },
        "id": "-0Ufa5m3lauT",
        "outputId": "eb05202d-e842-42b1-ce37-c9fa5c48b4a6"
      },
      "outputs": [
        {
          "output_type": "stream",
          "name": "stdout",
          "text": [
            "0     False\n",
            "1     False\n",
            "2     False\n",
            "3     False\n",
            "4     False\n",
            "5     False\n",
            "6     False\n",
            "7     False\n",
            "8     False\n",
            "9     False\n",
            "10    False\n",
            "11    False\n",
            "12     True\n",
            "13    False\n",
            "14    False\n",
            "16    False\n",
            "17    False\n",
            "19    False\n",
            "20    False\n",
            "21    False\n",
            "23    False\n",
            "24    False\n",
            "25    False\n",
            "26    False\n",
            "27    False\n",
            "29    False\n",
            "30    False\n",
            "31    False\n",
            "dtype: bool\n"
          ]
        }
      ],
      "source": [
        "print(df.duplicated())"
      ]
    },
    {
      "cell_type": "code",
      "execution_count": 27,
      "metadata": {
        "colab": {
          "base_uri": "https://localhost:8080/"
        },
        "id": "wS5UTY3Pl17J",
        "outputId": "1c84ae86-e918-4ab1-c8f8-f8445fb3e011"
      },
      "outputs": [
        {
          "output_type": "stream",
          "name": "stdout",
          "text": [
            "    Duration       Date  Pulse  Maxpulse  Calories\n",
            "0         60 2020-12-01    110       130     409.1\n",
            "1         60 2020-12-02    117       145     479.0\n",
            "2         60 2020-12-03    103       135     340.0\n",
            "3         45 2020-12-04    109       175     282.4\n",
            "4         45 2020-12-05    117       148     406.0\n",
            "5         60 2020-12-06    102       127     300.0\n",
            "6         60 2020-12-07    110       136     374.0\n",
            "7         45 2020-12-08    104       134     253.3\n",
            "8         30 2020-12-09    109       133     195.1\n",
            "9         60 2020-12-10     98       124     269.0\n",
            "10        60 2020-12-11    103       147     329.3\n",
            "11        60 2020-12-12    100       120     250.7\n",
            "13        60 2020-12-13    106       128     345.3\n",
            "14        60 2020-12-14    104       132     379.3\n",
            "16        60 2020-12-16     98       120     215.2\n",
            "17        60 2020-12-17    100       120     300.0\n",
            "19        60 2020-12-19    103       123     323.0\n",
            "20        45 2020-12-20     97       125     243.0\n",
            "21        60 2020-12-21    108       131     364.2\n",
            "23        60 2020-12-23    130       101     300.0\n",
            "24        45 2020-12-24    105       132     246.0\n",
            "25        60 2020-12-25    102       126     334.5\n",
            "26        60 2020-12-26    100       120     250.0\n",
            "27        60 2020-12-27     92       118     241.0\n",
            "29        60 2020-12-29    100       132     280.0\n",
            "30        60 2020-12-30    102       129     380.3\n",
            "31        60 2020-12-31     92       115     243.0\n"
          ]
        }
      ],
      "source": [
        "# to remove all dupliucate value\n",
        "df.drop_duplicates(inplace=True)\n",
        "print(df.to_string())"
      ]
    },
    {
      "cell_type": "markdown",
      "metadata": {
        "id": "LsxRHcwBmFHa"
      },
      "source": [
        "# Data Correlations\n",
        "*  the corr() method calculate the relationship between each column in your data set.\n"
      ]
    },
    {
      "cell_type": "code",
      "execution_count": 28,
      "metadata": {
        "colab": {
          "base_uri": "https://localhost:8080/"
        },
        "id": "Fjvs_PBOmAU3",
        "outputId": "845153c4-678f-4aa8-9dd2-72e98762bf26"
      },
      "outputs": [
        {
          "output_type": "execute_result",
          "data": {
            "text/plain": [
              "count     27.000000\n",
              "mean     104.481481\n",
              "std        7.939048\n",
              "min       92.000000\n",
              "25%      100.000000\n",
              "50%      103.000000\n",
              "75%      108.500000\n",
              "max      130.000000\n",
              "Name: Pulse, dtype: float64"
            ]
          },
          "metadata": {},
          "execution_count": 28
        }
      ],
      "source": [
        "#df.corr()\n",
        "df['Pulse'].describe()"
      ]
    },
    {
      "cell_type": "code",
      "execution_count": 30,
      "metadata": {
        "id": "QERZuRSem_EH"
      },
      "outputs": [],
      "source": [
        "# result explained\n",
        "# The number varies from -1 to 1.\n",
        "\n",
        "# 1 means that there is a 1 to 1 relationship (a perfect correlation), and for this data set, each time a value went up in the first column, the other one went up as well.\n",
        "\n",
        "# 0.9 is also a good relationship, and if you increase one value, the other will probably increase as well.\n",
        "\n",
        "# -0.9 would be just as good relationship as 0.9, but if you increase one value, the other will probably go down.\n",
        "\n",
        "# 0.2 means NOT a good relationship, meaning that if one value goes up does not mean that the other will.\n"
      ]
    },
    {
      "cell_type": "markdown",
      "metadata": {
        "id": "0yware7inVjw"
      },
      "source": [
        "# Ploting on python\n",
        "*  Pandas uses the plot() method to create diagram"
      ]
    },
    {
      "cell_type": "code",
      "execution_count": 31,
      "metadata": {
        "colab": {
          "base_uri": "https://localhost:8080/",
          "height": 243
        },
        "id": "1M4sy44JnTqL",
        "outputId": "e204fd32-8045-445d-dfa9-e3bd759030cb"
      },
      "outputs": [
        {
          "output_type": "execute_result",
          "data": {
            "text/plain": [
              "   AtomicNumber Symbol       Name  AtomicMass CPKHexColor  \\\n",
              "0             1      H   Hydrogen    1.008000      FFFFFF   \n",
              "1             2     He     Helium    4.002600      D9FFFF   \n",
              "2             3     Li    Lithium    7.000000      CC80FF   \n",
              "3             4     Be  Beryllium    9.012183      C2FF00   \n",
              "4             5      B      Boron   10.810000      FFB5B5   \n",
              "\n",
              "  ElectronConfiguration  Electronegativity  AtomicRadius  IonizationEnergy  \\\n",
              "0                   1s1               2.20         120.0            13.598   \n",
              "1                   1s2                NaN         140.0            24.587   \n",
              "2               [He]2s1               0.98         182.0             5.392   \n",
              "3               [He]2s2               1.57         153.0             9.323   \n",
              "4           [He]2s2 2p1               2.04         192.0             8.298   \n",
              "\n",
              "   ElectronAffinity OxidationStates StandardState  MeltingPoint  BoilingPoint  \\\n",
              "0             0.754          +1, -1           Gas         13.81         20.28   \n",
              "1               NaN               0           Gas          0.95          4.22   \n",
              "2             0.618              +1         Solid        453.65       1615.00   \n",
              "3               NaN              +2         Solid       1560.00       2744.00   \n",
              "4             0.277              +3         Solid       2348.00       4273.00   \n",
              "\n",
              "    Density            GroupBlock YearDiscovered  \n",
              "0  0.000090              Nonmetal           1766  \n",
              "1  0.000179             Noble gas           1868  \n",
              "2  0.534000          Alkali metal           1817  \n",
              "3  1.850000  Alkaline earth metal           1798  \n",
              "4  2.370000             Metalloid           1808  "
            ],
            "text/html": [
              "\n",
              "  <div id=\"df-a5a5725b-cb37-4afa-ba20-cc0294ebf4dd\" class=\"colab-df-container\">\n",
              "    <div>\n",
              "<style scoped>\n",
              "    .dataframe tbody tr th:only-of-type {\n",
              "        vertical-align: middle;\n",
              "    }\n",
              "\n",
              "    .dataframe tbody tr th {\n",
              "        vertical-align: top;\n",
              "    }\n",
              "\n",
              "    .dataframe thead th {\n",
              "        text-align: right;\n",
              "    }\n",
              "</style>\n",
              "<table border=\"1\" class=\"dataframe\">\n",
              "  <thead>\n",
              "    <tr style=\"text-align: right;\">\n",
              "      <th></th>\n",
              "      <th>AtomicNumber</th>\n",
              "      <th>Symbol</th>\n",
              "      <th>Name</th>\n",
              "      <th>AtomicMass</th>\n",
              "      <th>CPKHexColor</th>\n",
              "      <th>ElectronConfiguration</th>\n",
              "      <th>Electronegativity</th>\n",
              "      <th>AtomicRadius</th>\n",
              "      <th>IonizationEnergy</th>\n",
              "      <th>ElectronAffinity</th>\n",
              "      <th>OxidationStates</th>\n",
              "      <th>StandardState</th>\n",
              "      <th>MeltingPoint</th>\n",
              "      <th>BoilingPoint</th>\n",
              "      <th>Density</th>\n",
              "      <th>GroupBlock</th>\n",
              "      <th>YearDiscovered</th>\n",
              "    </tr>\n",
              "  </thead>\n",
              "  <tbody>\n",
              "    <tr>\n",
              "      <th>0</th>\n",
              "      <td>1</td>\n",
              "      <td>H</td>\n",
              "      <td>Hydrogen</td>\n",
              "      <td>1.008000</td>\n",
              "      <td>FFFFFF</td>\n",
              "      <td>1s1</td>\n",
              "      <td>2.20</td>\n",
              "      <td>120.0</td>\n",
              "      <td>13.598</td>\n",
              "      <td>0.754</td>\n",
              "      <td>+1, -1</td>\n",
              "      <td>Gas</td>\n",
              "      <td>13.81</td>\n",
              "      <td>20.28</td>\n",
              "      <td>0.000090</td>\n",
              "      <td>Nonmetal</td>\n",
              "      <td>1766</td>\n",
              "    </tr>\n",
              "    <tr>\n",
              "      <th>1</th>\n",
              "      <td>2</td>\n",
              "      <td>He</td>\n",
              "      <td>Helium</td>\n",
              "      <td>4.002600</td>\n",
              "      <td>D9FFFF</td>\n",
              "      <td>1s2</td>\n",
              "      <td>NaN</td>\n",
              "      <td>140.0</td>\n",
              "      <td>24.587</td>\n",
              "      <td>NaN</td>\n",
              "      <td>0</td>\n",
              "      <td>Gas</td>\n",
              "      <td>0.95</td>\n",
              "      <td>4.22</td>\n",
              "      <td>0.000179</td>\n",
              "      <td>Noble gas</td>\n",
              "      <td>1868</td>\n",
              "    </tr>\n",
              "    <tr>\n",
              "      <th>2</th>\n",
              "      <td>3</td>\n",
              "      <td>Li</td>\n",
              "      <td>Lithium</td>\n",
              "      <td>7.000000</td>\n",
              "      <td>CC80FF</td>\n",
              "      <td>[He]2s1</td>\n",
              "      <td>0.98</td>\n",
              "      <td>182.0</td>\n",
              "      <td>5.392</td>\n",
              "      <td>0.618</td>\n",
              "      <td>+1</td>\n",
              "      <td>Solid</td>\n",
              "      <td>453.65</td>\n",
              "      <td>1615.00</td>\n",
              "      <td>0.534000</td>\n",
              "      <td>Alkali metal</td>\n",
              "      <td>1817</td>\n",
              "    </tr>\n",
              "    <tr>\n",
              "      <th>3</th>\n",
              "      <td>4</td>\n",
              "      <td>Be</td>\n",
              "      <td>Beryllium</td>\n",
              "      <td>9.012183</td>\n",
              "      <td>C2FF00</td>\n",
              "      <td>[He]2s2</td>\n",
              "      <td>1.57</td>\n",
              "      <td>153.0</td>\n",
              "      <td>9.323</td>\n",
              "      <td>NaN</td>\n",
              "      <td>+2</td>\n",
              "      <td>Solid</td>\n",
              "      <td>1560.00</td>\n",
              "      <td>2744.00</td>\n",
              "      <td>1.850000</td>\n",
              "      <td>Alkaline earth metal</td>\n",
              "      <td>1798</td>\n",
              "    </tr>\n",
              "    <tr>\n",
              "      <th>4</th>\n",
              "      <td>5</td>\n",
              "      <td>B</td>\n",
              "      <td>Boron</td>\n",
              "      <td>10.810000</td>\n",
              "      <td>FFB5B5</td>\n",
              "      <td>[He]2s2 2p1</td>\n",
              "      <td>2.04</td>\n",
              "      <td>192.0</td>\n",
              "      <td>8.298</td>\n",
              "      <td>0.277</td>\n",
              "      <td>+3</td>\n",
              "      <td>Solid</td>\n",
              "      <td>2348.00</td>\n",
              "      <td>4273.00</td>\n",
              "      <td>2.370000</td>\n",
              "      <td>Metalloid</td>\n",
              "      <td>1808</td>\n",
              "    </tr>\n",
              "  </tbody>\n",
              "</table>\n",
              "</div>\n",
              "    <div class=\"colab-df-buttons\">\n",
              "\n",
              "  <div class=\"colab-df-container\">\n",
              "    <button class=\"colab-df-convert\" onclick=\"convertToInteractive('df-a5a5725b-cb37-4afa-ba20-cc0294ebf4dd')\"\n",
              "            title=\"Convert this dataframe to an interactive table.\"\n",
              "            style=\"display:none;\">\n",
              "\n",
              "  <svg xmlns=\"http://www.w3.org/2000/svg\" height=\"24px\" viewBox=\"0 -960 960 960\">\n",
              "    <path d=\"M120-120v-720h720v720H120Zm60-500h600v-160H180v160Zm220 220h160v-160H400v160Zm0 220h160v-160H400v160ZM180-400h160v-160H180v160Zm440 0h160v-160H620v160ZM180-180h160v-160H180v160Zm440 0h160v-160H620v160Z\"/>\n",
              "  </svg>\n",
              "    </button>\n",
              "\n",
              "  <style>\n",
              "    .colab-df-container {\n",
              "      display:flex;\n",
              "      gap: 12px;\n",
              "    }\n",
              "\n",
              "    .colab-df-convert {\n",
              "      background-color: #E8F0FE;\n",
              "      border: none;\n",
              "      border-radius: 50%;\n",
              "      cursor: pointer;\n",
              "      display: none;\n",
              "      fill: #1967D2;\n",
              "      height: 32px;\n",
              "      padding: 0 0 0 0;\n",
              "      width: 32px;\n",
              "    }\n",
              "\n",
              "    .colab-df-convert:hover {\n",
              "      background-color: #E2EBFA;\n",
              "      box-shadow: 0px 1px 2px rgba(60, 64, 67, 0.3), 0px 1px 3px 1px rgba(60, 64, 67, 0.15);\n",
              "      fill: #174EA6;\n",
              "    }\n",
              "\n",
              "    .colab-df-buttons div {\n",
              "      margin-bottom: 4px;\n",
              "    }\n",
              "\n",
              "    [theme=dark] .colab-df-convert {\n",
              "      background-color: #3B4455;\n",
              "      fill: #D2E3FC;\n",
              "    }\n",
              "\n",
              "    [theme=dark] .colab-df-convert:hover {\n",
              "      background-color: #434B5C;\n",
              "      box-shadow: 0px 1px 3px 1px rgba(0, 0, 0, 0.15);\n",
              "      filter: drop-shadow(0px 1px 2px rgba(0, 0, 0, 0.3));\n",
              "      fill: #FFFFFF;\n",
              "    }\n",
              "  </style>\n",
              "\n",
              "    <script>\n",
              "      const buttonEl =\n",
              "        document.querySelector('#df-a5a5725b-cb37-4afa-ba20-cc0294ebf4dd button.colab-df-convert');\n",
              "      buttonEl.style.display =\n",
              "        google.colab.kernel.accessAllowed ? 'block' : 'none';\n",
              "\n",
              "      async function convertToInteractive(key) {\n",
              "        const element = document.querySelector('#df-a5a5725b-cb37-4afa-ba20-cc0294ebf4dd');\n",
              "        const dataTable =\n",
              "          await google.colab.kernel.invokeFunction('convertToInteractive',\n",
              "                                                    [key], {});\n",
              "        if (!dataTable) return;\n",
              "\n",
              "        const docLinkHtml = 'Like what you see? Visit the ' +\n",
              "          '<a target=\"_blank\" href=https://colab.research.google.com/notebooks/data_table.ipynb>data table notebook</a>'\n",
              "          + ' to learn more about interactive tables.';\n",
              "        element.innerHTML = '';\n",
              "        dataTable['output_type'] = 'display_data';\n",
              "        await google.colab.output.renderOutput(dataTable, element);\n",
              "        const docLink = document.createElement('div');\n",
              "        docLink.innerHTML = docLinkHtml;\n",
              "        element.appendChild(docLink);\n",
              "      }\n",
              "    </script>\n",
              "  </div>\n",
              "\n",
              "\n",
              "<div id=\"df-7c3fd88d-a6cc-4a6d-9aa4-c8c325b1d9e9\">\n",
              "  <button class=\"colab-df-quickchart\" onclick=\"quickchart('df-7c3fd88d-a6cc-4a6d-9aa4-c8c325b1d9e9')\"\n",
              "            title=\"Suggest charts\"\n",
              "            style=\"display:none;\">\n",
              "\n",
              "<svg xmlns=\"http://www.w3.org/2000/svg\" height=\"24px\"viewBox=\"0 0 24 24\"\n",
              "     width=\"24px\">\n",
              "    <g>\n",
              "        <path d=\"M19 3H5c-1.1 0-2 .9-2 2v14c0 1.1.9 2 2 2h14c1.1 0 2-.9 2-2V5c0-1.1-.9-2-2-2zM9 17H7v-7h2v7zm4 0h-2V7h2v10zm4 0h-2v-4h2v4z\"/>\n",
              "    </g>\n",
              "</svg>\n",
              "  </button>\n",
              "\n",
              "<style>\n",
              "  .colab-df-quickchart {\n",
              "      --bg-color: #E8F0FE;\n",
              "      --fill-color: #1967D2;\n",
              "      --hover-bg-color: #E2EBFA;\n",
              "      --hover-fill-color: #174EA6;\n",
              "      --disabled-fill-color: #AAA;\n",
              "      --disabled-bg-color: #DDD;\n",
              "  }\n",
              "\n",
              "  [theme=dark] .colab-df-quickchart {\n",
              "      --bg-color: #3B4455;\n",
              "      --fill-color: #D2E3FC;\n",
              "      --hover-bg-color: #434B5C;\n",
              "      --hover-fill-color: #FFFFFF;\n",
              "      --disabled-bg-color: #3B4455;\n",
              "      --disabled-fill-color: #666;\n",
              "  }\n",
              "\n",
              "  .colab-df-quickchart {\n",
              "    background-color: var(--bg-color);\n",
              "    border: none;\n",
              "    border-radius: 50%;\n",
              "    cursor: pointer;\n",
              "    display: none;\n",
              "    fill: var(--fill-color);\n",
              "    height: 32px;\n",
              "    padding: 0;\n",
              "    width: 32px;\n",
              "  }\n",
              "\n",
              "  .colab-df-quickchart:hover {\n",
              "    background-color: var(--hover-bg-color);\n",
              "    box-shadow: 0 1px 2px rgba(60, 64, 67, 0.3), 0 1px 3px 1px rgba(60, 64, 67, 0.15);\n",
              "    fill: var(--button-hover-fill-color);\n",
              "  }\n",
              "\n",
              "  .colab-df-quickchart-complete:disabled,\n",
              "  .colab-df-quickchart-complete:disabled:hover {\n",
              "    background-color: var(--disabled-bg-color);\n",
              "    fill: var(--disabled-fill-color);\n",
              "    box-shadow: none;\n",
              "  }\n",
              "\n",
              "  .colab-df-spinner {\n",
              "    border: 2px solid var(--fill-color);\n",
              "    border-color: transparent;\n",
              "    border-bottom-color: var(--fill-color);\n",
              "    animation:\n",
              "      spin 1s steps(1) infinite;\n",
              "  }\n",
              "\n",
              "  @keyframes spin {\n",
              "    0% {\n",
              "      border-color: transparent;\n",
              "      border-bottom-color: var(--fill-color);\n",
              "      border-left-color: var(--fill-color);\n",
              "    }\n",
              "    20% {\n",
              "      border-color: transparent;\n",
              "      border-left-color: var(--fill-color);\n",
              "      border-top-color: var(--fill-color);\n",
              "    }\n",
              "    30% {\n",
              "      border-color: transparent;\n",
              "      border-left-color: var(--fill-color);\n",
              "      border-top-color: var(--fill-color);\n",
              "      border-right-color: var(--fill-color);\n",
              "    }\n",
              "    40% {\n",
              "      border-color: transparent;\n",
              "      border-right-color: var(--fill-color);\n",
              "      border-top-color: var(--fill-color);\n",
              "    }\n",
              "    60% {\n",
              "      border-color: transparent;\n",
              "      border-right-color: var(--fill-color);\n",
              "    }\n",
              "    80% {\n",
              "      border-color: transparent;\n",
              "      border-right-color: var(--fill-color);\n",
              "      border-bottom-color: var(--fill-color);\n",
              "    }\n",
              "    90% {\n",
              "      border-color: transparent;\n",
              "      border-bottom-color: var(--fill-color);\n",
              "    }\n",
              "  }\n",
              "</style>\n",
              "\n",
              "  <script>\n",
              "    async function quickchart(key) {\n",
              "      const quickchartButtonEl =\n",
              "        document.querySelector('#' + key + ' button');\n",
              "      quickchartButtonEl.disabled = true;  // To prevent multiple clicks.\n",
              "      quickchartButtonEl.classList.add('colab-df-spinner');\n",
              "      try {\n",
              "        const charts = await google.colab.kernel.invokeFunction(\n",
              "            'suggestCharts', [key], {});\n",
              "      } catch (error) {\n",
              "        console.error('Error during call to suggestCharts:', error);\n",
              "      }\n",
              "      quickchartButtonEl.classList.remove('colab-df-spinner');\n",
              "      quickchartButtonEl.classList.add('colab-df-quickchart-complete');\n",
              "    }\n",
              "    (() => {\n",
              "      let quickchartButtonEl =\n",
              "        document.querySelector('#df-7c3fd88d-a6cc-4a6d-9aa4-c8c325b1d9e9 button');\n",
              "      quickchartButtonEl.style.display =\n",
              "        google.colab.kernel.accessAllowed ? 'block' : 'none';\n",
              "    })();\n",
              "  </script>\n",
              "</div>\n",
              "\n",
              "    </div>\n",
              "  </div>\n"
            ],
            "application/vnd.google.colaboratory.intrinsic+json": {
              "type": "dataframe",
              "variable_name": "dataFrame",
              "summary": "{\n  \"name\": \"dataFrame\",\n  \"rows\": 118,\n  \"fields\": [\n    {\n      \"column\": \"AtomicNumber\",\n      \"properties\": {\n        \"dtype\": \"number\",\n        \"std\": 34,\n        \"min\": 1,\n        \"max\": 118,\n        \"num_unique_values\": 118,\n        \"samples\": [\n          57,\n          90,\n          5\n        ],\n        \"semantic_type\": \"\",\n        \"description\": \"\"\n      }\n    },\n    {\n      \"column\": \"Symbol\",\n      \"properties\": {\n        \"dtype\": \"string\",\n        \"num_unique_values\": 118,\n        \"samples\": [\n          \"La\",\n          \"Th\",\n          \"B\"\n        ],\n        \"semantic_type\": \"\",\n        \"description\": \"\"\n      }\n    },\n    {\n      \"column\": \"Name\",\n      \"properties\": {\n        \"dtype\": \"string\",\n        \"num_unique_values\": 118,\n        \"samples\": [\n          \"Lanthanum\",\n          \"Thorium\",\n          \"Boron\"\n        ],\n        \"semantic_type\": \"\",\n        \"description\": \"\"\n      }\n    },\n    {\n      \"column\": \"AtomicMass\",\n      \"properties\": {\n        \"dtype\": \"number\",\n        \"std\": 89.76830563748716,\n        \"min\": 1.008,\n        \"max\": 295.216,\n        \"num_unique_values\": 118,\n        \"samples\": [\n          138.9055,\n          232.038,\n          10.81\n        ],\n        \"semantic_type\": \"\",\n        \"description\": \"\"\n      }\n    },\n    {\n      \"column\": \"CPKHexColor\",\n      \"properties\": {\n        \"dtype\": \"string\",\n        \"num_unique_values\": 108,\n        \"samples\": [\n          \"FFD123\",\n          \"AB5CF2\",\n          \"FFB5B5\"\n        ],\n        \"semantic_type\": \"\",\n        \"description\": \"\"\n      }\n    },\n    {\n      \"column\": \"ElectronConfiguration\",\n      \"properties\": {\n        \"dtype\": \"string\",\n        \"num_unique_values\": 118,\n        \"samples\": [\n          \"[Xe]6s2 5d1\",\n          \"[Rn]7s2 6d2\",\n          \"[He]2s2 2p1\"\n        ],\n        \"semantic_type\": \"\",\n        \"description\": \"\"\n      }\n    },\n    {\n      \"column\": \"Electronegativity\",\n      \"properties\": {\n        \"dtype\": \"number\",\n        \"std\": 0.6351871103647901,\n        \"min\": 0.7,\n        \"max\": 3.98,\n        \"num_unique_values\": 69,\n        \"samples\": [\n          1.83,\n          2.2,\n          1.1\n        ],\n        \"semantic_type\": \"\",\n        \"description\": \"\"\n      }\n    },\n    {\n      \"column\": \"AtomicRadius\",\n      \"properties\": {\n        \"dtype\": \"number\",\n        \"std\": 38.56913038955364,\n        \"min\": 120.0,\n        \"max\": 348.0,\n        \"num_unique_values\": 66,\n        \"samples\": [\n          221.0,\n          260.0,\n          120.0\n        ],\n        \"semantic_type\": \"\",\n        \"description\": \"\"\n      }\n    },\n    {\n      \"column\": \"IonizationEnergy\",\n      \"properties\": {\n        \"dtype\": \"number\",\n        \"std\": 3.3390658849274932,\n        \"min\": 3.894,\n        \"max\": 24.587,\n        \"num_unique_values\": 101,\n        \"samples\": [\n          10.745,\n          5.212,\n          6.022\n        ],\n        \"semantic_type\": \"\",\n        \"description\": \"\"\n      }\n    },\n    {\n      \"column\": \"ElectronAffinity\",\n      \"properties\": {\n        \"dtype\": \"number\",\n        \"std\": 0.879163389629118,\n        \"min\": 0.079,\n        \"max\": 3.617,\n        \"num_unique_values\": 54,\n        \"samples\": [\n          1.156,\n          0.36,\n          0.2\n        ],\n        \"semantic_type\": \"\",\n        \"description\": \"\"\n      }\n    },\n    {\n      \"column\": \"OxidationStates\",\n      \"properties\": {\n        \"dtype\": \"category\",\n        \"num_unique_values\": 43,\n        \"samples\": [\n          \"2, 1, 0\",\n          \"+4, +3\",\n          \"+5\"\n        ],\n        \"semantic_type\": \"\",\n        \"description\": \"\"\n      }\n    },\n    {\n      \"column\": \"StandardState\",\n      \"properties\": {\n        \"dtype\": \"category\",\n        \"num_unique_values\": 5,\n        \"samples\": [\n          \"Solid\",\n          \"Expected to be a Gas\",\n          \"Liquid\"\n        ],\n        \"semantic_type\": \"\",\n        \"description\": \"\"\n      }\n    },\n    {\n      \"column\": \"MeltingPoint\",\n      \"properties\": {\n        \"dtype\": \"number\",\n        \"std\": 888.8538594805698,\n        \"min\": 0.95,\n        \"max\": 3823.0,\n        \"num_unique_values\": 102,\n        \"samples\": [\n          302.91,\n          1802.0,\n          1095.0\n        ],\n        \"semantic_type\": \"\",\n        \"description\": \"\"\n      }\n    },\n    {\n      \"column\": \"BoilingPoint\",\n      \"properties\": {\n        \"dtype\": \"number\",\n        \"std\": 1588.4109189297772,\n        \"min\": 4.22,\n        \"max\": 5869.0,\n        \"num_unique_values\": 92,\n        \"samples\": [\n          5017.0,\n          3680.0,\n          2170.0\n        ],\n        \"semantic_type\": \"\",\n        \"description\": \"\"\n      }\n    },\n    {\n      \"column\": \"Density\",\n      \"properties\": {\n        \"dtype\": \"number\",\n        \"std\": 5.878691792126249,\n        \"min\": 8.988e-05,\n        \"max\": 22.57,\n        \"num_unique_values\": 94,\n        \"samples\": [\n          8.57,\n          6.0,\n          3.62\n        ],\n        \"semantic_type\": \"\",\n        \"description\": \"\"\n      }\n    },\n    {\n      \"column\": \"GroupBlock\",\n      \"properties\": {\n        \"dtype\": \"category\",\n        \"num_unique_values\": 10,\n        \"samples\": [\n          \"Lanthanide\",\n          \"Noble gas\",\n          \"Halogen\"\n        ],\n        \"semantic_type\": \"\",\n        \"description\": \"\"\n      }\n    },\n    {\n      \"column\": \"YearDiscovered\",\n      \"properties\": {\n        \"dtype\": \"string\",\n        \"num_unique_values\": 76,\n        \"samples\": [\n          \"1808\",\n          \"1860\",\n          \"1807\"\n        ],\n        \"semantic_type\": \"\",\n        \"description\": \"\"\n      }\n    }\n  ]\n}"
            }
          },
          "metadata": {},
          "execution_count": 31
        }
      ],
      "source": [
        "dataFrame = pd.read_csv('https://raw.githubusercontent.com/jsdhami/Python-For-Research/main/Data/p_table.csv')\n",
        "dataFrame.head()"
      ]
    },
    {
      "cell_type": "code",
      "execution_count": 32,
      "metadata": {
        "id": "yYb-5hc5nvo6",
        "colab": {
          "base_uri": "https://localhost:8080/",
          "height": 447
        },
        "outputId": "f7a5b7ce-c9a6-4707-fd18-4ab5af7cfba3"
      },
      "outputs": [
        {
          "output_type": "execute_result",
          "data": {
            "text/plain": [
              "<Axes: >"
            ]
          },
          "metadata": {},
          "execution_count": 32
        },
        {
          "output_type": "display_data",
          "data": {
            "text/plain": [
              "<Figure size 640x480 with 1 Axes>"
            ],
            "image/png": "[encoded data removed]"
          },
          "metadata": {}
        }
      ],
      "source": [
        "dataFrame.plot()"
      ]
    },
    {
      "cell_type": "code",
      "execution_count": 33,
      "metadata": {
        "colab": {
          "base_uri": "https://localhost:8080/",
          "height": 466
        },
        "id": "GOobk30Ln3ts",
        "outputId": "1da1cff2-fdbb-4b8d-cdff-c9b6c931f13b"
      },
      "outputs": [
        {
          "output_type": "execute_result",
          "data": {
            "text/plain": [
              "<Axes: xlabel='AtomicNumber', ylabel='AtomicMass'>"
            ]
          },
          "metadata": {},
          "execution_count": 33
        },
        {
          "output_type": "display_data",
          "data": {
            "text/plain": [
              "<Figure size 640x480 with 1 Axes>"
            ],
            "image/png": "[encoded data removed]"
          },
          "metadata": {}
        }
      ],
      "source": [
        "# scatter plot\n",
        "# A scatter plot needs an x- and y-axis\n",
        "#df.plot(kind='scatter', x='Duration', y='Calories')\n",
        "\n",
        "# from atomic data tabe\n",
        "dataFrame.plot(kind='scatter',x= 'AtomicNumber', y='AtomicMass')"
      ]
    },
    {
      "cell_type": "code",
      "execution_count": 34,
      "metadata": {
        "colab": {
          "base_uri": "https://localhost:8080/",
          "height": 447
        },
        "id": "z0vEt89po4uv",
        "outputId": "adc8d30d-b749-4ba3-e8eb-77634ac58507"
      },
      "outputs": [
        {
          "output_type": "execute_result",
          "data": {
            "text/plain": [
              "<Axes: ylabel='Frequency'>"
            ]
          },
          "metadata": {},
          "execution_count": 34
        },
        {
          "output_type": "display_data",
          "data": {
            "text/plain": [
              "<Figure size 640x480 with 1 Axes>"
            ],
            "image/png": "[encoded data removed]"
          },
          "metadata": {}
        }
      ],
      "source": [
        "# Histogram\n",
        "# A histogram needs only one column.\n",
        "df['Duration'].plot(kind='hist')"
      ]
    },
    {
      "cell_type": "code",
      "execution_count": 35,
      "metadata": {
        "colab": {
          "base_uri": "https://localhost:8080/",
          "height": 447
        },
        "id": "_thtxOTvpWPY",
        "outputId": "7737202e-3b4e-4b08-bd60-167b55016dbe"
      },
      "outputs": [
        {
          "output_type": "execute_result",
          "data": {
            "text/plain": [
              "<Axes: >"
            ]
          },
          "metadata": {},
          "execution_count": 35
        },
        {
          "output_type": "display_data",
          "data": {
            "text/plain": [
              "<Figure size 640x480 with 1 Axes>"
            ],
            "image/png": "[encoded data removed]"
          },
          "metadata": {}
        }
      ],
      "source": [
        "# Box Plot\n",
        "# A box plot needs only one column.\n",
        "df['Calories' ].plot(kind='box')"
      ]
    },
    {
      "cell_type": "code",
      "execution_count": 36,
      "metadata": {
        "colab": {
          "base_uri": "https://localhost:8080/",
          "height": 465
        },
        "id": "W6S4K_pjpS65",
        "outputId": "9cb058b7-1ce4-4a0a-ca0b-455cf363996b"
      },
      "outputs": [
        {
          "output_type": "execute_result",
          "data": {
            "text/plain": [
              "array([<Axes: >, <Axes: >, <Axes: >, <Axes: >, <Axes: >, <Axes: >,\n",
              "       <Axes: >, <Axes: >, <Axes: >], dtype=object)"
            ]
          },
          "metadata": {},
          "execution_count": 36
        },
        {
          "output_type": "display_data",
          "data": {
            "text/plain": [
              "<Figure size 640x480 with 9 Axes>"
            ],
            "image/png": "[encoded data removed]"
          },
          "metadata": {}
        }
      ],
      "source": [
        "#create subplot using pandas\n",
        "dataFrame.plot(subplots=True)"
      ]
    },
    {
      "cell_type": "markdown",
      "metadata": {
        "id": "yBXPr3SeqW2p"
      },
      "source": [
        "# Matplotlib Complete"
      ]
    },
    {
      "cell_type": "code",
      "execution_count": 41,
      "metadata": {
        "colab": {
          "base_uri": "https://localhost:8080/"
        },
        "id": "MeqGIxCeUWNX",
        "outputId": "3e830c9a-6dd4-4def-8939-e0daccad5fa4"
      },
      "outputs": [
        {
          "output_type": "stream",
          "name": "stdout",
          "text": [
            "fatal: destination path 'Dhirendra719' already exists and is not an empty directory.\n",
            "Requirement already satisfied: pandas in /usr/local/lib/python3.10/dist-packages (2.0.3)\n",
            "Requirement already satisfied: python-dateutil>=2.8.2 in /usr/local/lib/python3.10/dist-packages (from pandas) (2.8.2)\n",
            "Requirement already satisfied: pytz>=2020.1 in /usr/local/lib/python3.10/dist-packages (from pandas) (2023.4)\n",
            "Requirement already satisfied: tzdata>=2022.1 in /usr/local/lib/python3.10/dist-packages (from pandas) (2024.1)\n",
            "Requirement already satisfied: numpy>=1.21.0 in /usr/local/lib/python3.10/dist-packages (from pandas) (1.25.2)\n",
            "Requirement already satisfied: six>=1.5 in /usr/local/lib/python3.10/dist-packages (from python-dateutil>=2.8.2->pandas) (1.16.0)\n"
          ]
        }
      ],
      "source": [
        "!git clone https://github.com/Dhirendra719/Dhirendra719.git\n",
        "!pip install pandas\n",
        "import pandas as pd"
      ]
    },
    {
      "cell_type": "code",
      "execution_count": 42,
      "metadata": {
        "colab": {
          "base_uri": "https://localhost:8080/",
          "height": 423
        },
        "id": "Apbr_xbVa-LA",
        "outputId": "5293b900-27b2-41c1-ecdd-9f26b246c67c"
      },
      "outputs": [
        {
          "output_type": "execute_result",
          "data": {
            "text/plain": [
              "        RL  efficency         P\n",
              "0      1.2   2.097902  0.005333\n",
              "1      2.2   3.780069  0.006545\n",
              "2      3.2   5.405405  0.008000\n",
              "3      4.1   6.821963  0.008805\n",
              "4      5.2   8.496732  0.010173\n",
              "..     ...        ...       ...\n",
              "103  144.7  72.097658  0.025742\n",
              "104  154.7  73.421927  0.025087\n",
              "105  164.6  74.614687  0.024301\n",
              "106  174.7  75.726051  0.023821\n",
              "107  184.7  76.734524  0.023199\n",
              "\n",
              "[108 rows x 3 columns]"
            ],
            "text/html": [
              "\n",
              "  <div id=\"df-855e3d6f-3aef-4142-81c4-061928bc28d6\" class=\"colab-df-container\">\n",
              "    <div>\n",
              "<style scoped>\n",
              "    .dataframe tbody tr th:only-of-type {\n",
              "        vertical-align: middle;\n",
              "    }\n",
              "\n",
              "    .dataframe tbody tr th {\n",
              "        vertical-align: top;\n",
              "    }\n",
              "\n",
              "    .dataframe thead th {\n",
              "        text-align: right;\n",
              "    }\n",
              "</style>\n",
              "<table border=\"1\" class=\"dataframe\">\n",
              "  <thead>\n",
              "    <tr style=\"text-align: right;\">\n",
              "      <th></th>\n",
              "      <th>RL</th>\n",
              "      <th>efficency</th>\n",
              "      <th>P</th>\n",
              "    </tr>\n",
              "  </thead>\n",
              "  <tbody>\n",
              "    <tr>\n",
              "      <th>0</th>\n",
              "      <td>1.2</td>\n",
              "      <td>2.097902</td>\n",
              "      <td>0.005333</td>\n",
              "    </tr>\n",
              "    <tr>\n",
              "      <th>1</th>\n",
              "      <td>2.2</td>\n",
              "      <td>3.780069</td>\n",
              "      <td>0.006545</td>\n",
              "    </tr>\n",
              "    <tr>\n",
              "      <th>2</th>\n",
              "      <td>3.2</td>\n",
              "      <td>5.405405</td>\n",
              "      <td>0.008000</td>\n",
              "    </tr>\n",
              "    <tr>\n",
              "      <th>3</th>\n",
              "      <td>4.1</td>\n",
              "      <td>6.821963</td>\n",
              "      <td>0.008805</td>\n",
              "    </tr>\n",
              "    <tr>\n",
              "      <th>4</th>\n",
              "      <td>5.2</td>\n",
              "      <td>8.496732</td>\n",
              "      <td>0.010173</td>\n",
              "    </tr>\n",
              "    <tr>\n",
              "      <th>...</th>\n",
              "      <td>...</td>\n",
              "      <td>...</td>\n",
              "      <td>...</td>\n",
              "    </tr>\n",
              "    <tr>\n",
              "      <th>103</th>\n",
              "      <td>144.7</td>\n",
              "      <td>72.097658</td>\n",
              "      <td>0.025742</td>\n",
              "    </tr>\n",
              "    <tr>\n",
              "      <th>104</th>\n",
              "      <td>154.7</td>\n",
              "      <td>73.421927</td>\n",
              "      <td>0.025087</td>\n",
              "    </tr>\n",
              "    <tr>\n",
              "      <th>105</th>\n",
              "      <td>164.6</td>\n",
              "      <td>74.614687</td>\n",
              "      <td>0.024301</td>\n",
              "    </tr>\n",
              "    <tr>\n",
              "      <th>106</th>\n",
              "      <td>174.7</td>\n",
              "      <td>75.726051</td>\n",
              "      <td>0.023821</td>\n",
              "    </tr>\n",
              "    <tr>\n",
              "      <th>107</th>\n",
              "      <td>184.7</td>\n",
              "      <td>76.734524</td>\n",
              "      <td>0.023199</td>\n",
              "    </tr>\n",
              "  </tbody>\n",
              "</table>\n",
              "<p>108 rows × 3 columns</p>\n",
              "</div>\n",
              "    <div class=\"colab-df-buttons\">\n",
              "\n",
              "  <div class=\"colab-df-container\">\n",
              "    <button class=\"colab-df-convert\" onclick=\"convertToInteractive('df-855e3d6f-3aef-4142-81c4-061928bc28d6')\"\n",
              "            title=\"Convert this dataframe to an interactive table.\"\n",
              "            style=\"display:none;\">\n",
              "\n",
              "  <svg xmlns=\"http://www.w3.org/2000/svg\" height=\"24px\" viewBox=\"0 -960 960 960\">\n",
              "    <path d=\"M120-120v-720h720v720H120Zm60-500h600v-160H180v160Zm220 220h160v-160H400v160Zm0 220h160v-160H400v160ZM180-400h160v-160H180v160Zm440 0h160v-160H620v160ZM180-180h160v-160H180v160Zm440 0h160v-160H620v160Z\"/>\n",
              "  </svg>\n",
              "    </button>\n",
              "\n",
              "  <style>\n",
              "    .colab-df-container {\n",
              "      display:flex;\n",
              "      gap: 12px;\n",
              "    }\n",
              "\n",
              "    .colab-df-convert {\n",
              "      background-color: #E8F0FE;\n",
              "      border: none;\n",
              "      border-radius: 50%;\n",
              "      cursor: pointer;\n",
              "      display: none;\n",
              "      fill: #1967D2;\n",
              "      height: 32px;\n",
              "      padding: 0 0 0 0;\n",
              "      width: 32px;\n",
              "    }\n",
              "\n",
              "    .colab-df-convert:hover {\n",
              "      background-color: #E2EBFA;\n",
              "      box-shadow: 0px 1px 2px rgba(60, 64, 67, 0.3), 0px 1px 3px 1px rgba(60, 64, 67, 0.15);\n",
              "      fill: #174EA6;\n",
              "    }\n",
              "\n",
              "    .colab-df-buttons div {\n",
              "      margin-bottom: 4px;\n",
              "    }\n",
              "\n",
              "    [theme=dark] .colab-df-convert {\n",
              "      background-color: #3B4455;\n",
              "      fill: #D2E3FC;\n",
              "    }\n",
              "\n",
              "    [theme=dark] .colab-df-convert:hover {\n",
              "      background-color: #434B5C;\n",
              "      box-shadow: 0px 1px 3px 1px rgba(0, 0, 0, 0.15);\n",
              "      filter: drop-shadow(0px 1px 2px rgba(0, 0, 0, 0.3));\n",
              "      fill: #FFFFFF;\n",
              "    }\n",
              "  </style>\n",
              "\n",
              "    <script>\n",
              "      const buttonEl =\n",
              "        document.querySelector('#df-855e3d6f-3aef-4142-81c4-061928bc28d6 button.colab-df-convert');\n",
              "      buttonEl.style.display =\n",
              "        google.colab.kernel.accessAllowed ? 'block' : 'none';\n",
              "\n",
              "      async function convertToInteractive(key) {\n",
              "        const element = document.querySelector('#df-855e3d6f-3aef-4142-81c4-061928bc28d6');\n",
              "        const dataTable =\n",
              "          await google.colab.kernel.invokeFunction('convertToInteractive',\n",
              "                                                    [key], {});\n",
              "        if (!dataTable) return;\n",
              "\n",
              "        const docLinkHtml = 'Like what you see? Visit the ' +\n",
              "          '<a target=\"_blank\" href=https://colab.research.google.com/notebooks/data_table.ipynb>data table notebook</a>'\n",
              "          + ' to learn more about interactive tables.';\n",
              "        element.innerHTML = '';\n",
              "        dataTable['output_type'] = 'display_data';\n",
              "        await google.colab.output.renderOutput(dataTable, element);\n",
              "        const docLink = document.createElement('div');\n",
              "        docLink.innerHTML = docLinkHtml;\n",
              "        element.appendChild(docLink);\n",
              "      }\n",
              "    </script>\n",
              "  </div>\n",
              "\n",
              "\n",
              "<div id=\"df-9131f60a-a150-440e-bd96-d2404131e33d\">\n",
              "  <button class=\"colab-df-quickchart\" onclick=\"quickchart('df-9131f60a-a150-440e-bd96-d2404131e33d')\"\n",
              "            title=\"Suggest charts\"\n",
              "            style=\"display:none;\">\n",
              "\n",
              "<svg xmlns=\"http://www.w3.org/2000/svg\" height=\"24px\"viewBox=\"0 0 24 24\"\n",
              "     width=\"24px\">\n",
              "    <g>\n",
              "        <path d=\"M19 3H5c-1.1 0-2 .9-2 2v14c0 1.1.9 2 2 2h14c1.1 0 2-.9 2-2V5c0-1.1-.9-2-2-2zM9 17H7v-7h2v7zm4 0h-2V7h2v10zm4 0h-2v-4h2v4z\"/>\n",
              "    </g>\n",
              "</svg>\n",
              "  </button>\n",
              "\n",
              "<style>\n",
              "  .colab-df-quickchart {\n",
              "      --bg-color: #E8F0FE;\n",
              "      --fill-color: #1967D2;\n",
              "      --hover-bg-color: #E2EBFA;\n",
              "      --hover-fill-color: #174EA6;\n",
              "      --disabled-fill-color: #AAA;\n",
              "      --disabled-bg-color: #DDD;\n",
              "  }\n",
              "\n",
              "  [theme=dark] .colab-df-quickchart {\n",
              "      --bg-color: #3B4455;\n",
              "      --fill-color: #D2E3FC;\n",
              "      --hover-bg-color: #434B5C;\n",
              "      --hover-fill-color: #FFFFFF;\n",
              "      --disabled-bg-color: #3B4455;\n",
              "      --disabled-fill-color: #666;\n",
              "  }\n",
              "\n",
              "  .colab-df-quickchart {\n",
              "    background-color: var(--bg-color);\n",
              "    border: none;\n",
              "    border-radius: 50%;\n",
              "    cursor: pointer;\n",
              "    display: none;\n",
              "    fill: var(--fill-color);\n",
              "    height: 32px;\n",
              "    padding: 0;\n",
              "    width: 32px;\n",
              "  }\n",
              "\n",
              "  .colab-df-quickchart:hover {\n",
              "    background-color: var(--hover-bg-color);\n",
              "    box-shadow: 0 1px 2px rgba(60, 64, 67, 0.3), 0 1px 3px 1px rgba(60, 64, 67, 0.15);\n",
              "    fill: var(--button-hover-fill-color);\n",
              "  }\n",
              "\n",
              "  .colab-df-quickchart-complete:disabled,\n",
              "  .colab-df-quickchart-complete:disabled:hover {\n",
              "    background-color: var(--disabled-bg-color);\n",
              "    fill: var(--disabled-fill-color);\n",
              "    box-shadow: none;\n",
              "  }\n",
              "\n",
              "  .colab-df-spinner {\n",
              "    border: 2px solid var(--fill-color);\n",
              "    border-color: transparent;\n",
              "    border-bottom-color: var(--fill-color);\n",
              "    animation:\n",
              "      spin 1s steps(1) infinite;\n",
              "  }\n",
              "\n",
              "  @keyframes spin {\n",
              "    0% {\n",
              "      border-color: transparent;\n",
              "      border-bottom-color: var(--fill-color);\n",
              "      border-left-color: var(--fill-color);\n",
              "    }\n",
              "    20% {\n",
              "      border-color: transparent;\n",
              "      border-left-color: var(--fill-color);\n",
              "      border-top-color: var(--fill-color);\n",
              "    }\n",
              "    30% {\n",
              "      border-color: transparent;\n",
              "      border-left-color: var(--fill-color);\n",
              "      border-top-color: var(--fill-color);\n",
              "      border-right-color: var(--fill-color);\n",
              "    }\n",
              "    40% {\n",
              "      border-color: transparent;\n",
              "      border-right-color: var(--fill-color);\n",
              "      border-top-color: var(--fill-color);\n",
              "    }\n",
              "    60% {\n",
              "      border-color: transparent;\n",
              "      border-right-color: var(--fill-color);\n",
              "    }\n",
              "    80% {\n",
              "      border-color: transparent;\n",
              "      border-right-color: var(--fill-color);\n",
              "      border-bottom-color: var(--fill-color);\n",
              "    }\n",
              "    90% {\n",
              "      border-color: transparent;\n",
              "      border-bottom-color: var(--fill-color);\n",
              "    }\n",
              "  }\n",
              "</style>\n",
              "\n",
              "  <script>\n",
              "    async function quickchart(key) {\n",
              "      const quickchartButtonEl =\n",
              "        document.querySelector('#' + key + ' button');\n",
              "      quickchartButtonEl.disabled = true;  // To prevent multiple clicks.\n",
              "      quickchartButtonEl.classList.add('colab-df-spinner');\n",
              "      try {\n",
              "        const charts = await google.colab.kernel.invokeFunction(\n",
              "            'suggestCharts', [key], {});\n",
              "      } catch (error) {\n",
              "        console.error('Error during call to suggestCharts:', error);\n",
              "      }\n",
              "      quickchartButtonEl.classList.remove('colab-df-spinner');\n",
              "      quickchartButtonEl.classList.add('colab-df-quickchart-complete');\n",
              "    }\n",
              "    (() => {\n",
              "      let quickchartButtonEl =\n",
              "        document.querySelector('#df-9131f60a-a150-440e-bd96-d2404131e33d button');\n",
              "      quickchartButtonEl.style.display =\n",
              "        google.colab.kernel.accessAllowed ? 'block' : 'none';\n",
              "    })();\n",
              "  </script>\n",
              "</div>\n",
              "\n",
              "  <div id=\"id_8afe622a-39fb-4e2f-84a6-beb616e1268e\">\n",
              "    <style>\n",
              "      .colab-df-generate {\n",
              "        background-color: #E8F0FE;\n",
              "        border: none;\n",
              "        border-radius: 50%;\n",
              "        cursor: pointer;\n",
              "        display: none;\n",
              "        fill: #1967D2;\n",
              "        height: 32px;\n",
              "        padding: 0 0 0 0;\n",
              "        width: 32px;\n",
              "      }\n",
              "\n",
              "      .colab-df-generate:hover {\n",
              "        background-color: #E2EBFA;\n",
              "        box-shadow: 0px 1px 2px rgba(60, 64, 67, 0.3), 0px 1px 3px 1px rgba(60, 64, 67, 0.15);\n",
              "        fill: #174EA6;\n",
              "      }\n",
              "\n",
              "      [theme=dark] .colab-df-generate {\n",
              "        background-color: #3B4455;\n",
              "        fill: #D2E3FC;\n",
              "      }\n",
              "\n",
              "      [theme=dark] .colab-df-generate:hover {\n",
              "        background-color: #434B5C;\n",
              "        box-shadow: 0px 1px 3px 1px rgba(0, 0, 0, 0.15);\n",
              "        filter: drop-shadow(0px 1px 2px rgba(0, 0, 0, 0.3));\n",
              "        fill: #FFFFFF;\n",
              "      }\n",
              "    </style>\n",
              "    <button class=\"colab-df-generate\" onclick=\"generateWithVariable('df')\"\n",
              "            title=\"Generate code using this dataframe.\"\n",
              "            style=\"display:none;\">\n",
              "\n",
              "  <svg xmlns=\"http://www.w3.org/2000/svg\" height=\"24px\"viewBox=\"0 0 24 24\"\n",
              "       width=\"24px\">\n",
              "    <path d=\"M7,19H8.4L18.45,9,17,7.55,7,17.6ZM5,21V16.75L18.45,3.32a2,2,0,0,1,2.83,0l1.4,1.43a1.91,1.91,0,0,1,.58,1.4,1.91,1.91,0,0,1-.58,1.4L9.25,21ZM18.45,9,17,7.55Zm-12,3A5.31,5.31,0,0,0,4.9,8.1,5.31,5.31,0,0,0,1,6.5,5.31,5.31,0,0,0,4.9,4.9,5.31,5.31,0,0,0,6.5,1,5.31,5.31,0,0,0,8.1,4.9,5.31,5.31,0,0,0,12,6.5,5.46,5.46,0,0,0,6.5,12Z\"/>\n",
              "  </svg>\n",
              "    </button>\n",
              "    <script>\n",
              "      (() => {\n",
              "      const buttonEl =\n",
              "        document.querySelector('#id_8afe622a-39fb-4e2f-84a6-beb616e1268e button.colab-df-generate');\n",
              "      buttonEl.style.display =\n",
              "        google.colab.kernel.accessAllowed ? 'block' : 'none';\n",
              "\n",
              "      buttonEl.onclick = () => {\n",
              "        google.colab.notebook.generateWithVariable('df');\n",
              "      }\n",
              "      })();\n",
              "    </script>\n",
              "  </div>\n",
              "\n",
              "    </div>\n",
              "  </div>\n"
            ],
            "application/vnd.google.colaboratory.intrinsic+json": {
              "type": "dataframe",
              "variable_name": "df",
              "summary": "{\n  \"name\": \"df\",\n  \"rows\": 108,\n  \"fields\": [\n    {\n      \"column\": \"RL\",\n      \"properties\": {\n        \"dtype\": \"number\",\n        \"std\": 38.67393944342083,\n        \"min\": 1.2,\n        \"max\": 184.7,\n        \"num_unique_values\": 107,\n        \"samples\": [\n          76.7,\n          11.2,\n          5.2\n        ],\n        \"semantic_type\": \"\",\n        \"description\": \"\"\n      }\n    },\n    {\n      \"column\": \"efficency\",\n      \"properties\": {\n        \"dtype\": \"number\",\n        \"std\": 18.150057512358647,\n        \"min\": 2.0979020979020975,\n        \"max\": 76.73452430411301,\n        \"num_unique_values\": 107,\n        \"samples\": [\n          57.799547852298424,\n          16.666666666666664,\n          8.49673202614379\n        ],\n        \"semantic_type\": \"\",\n        \"description\": \"\"\n      }\n    },\n    {\n      \"column\": \"P\",\n      \"properties\": {\n        \"dtype\": \"number\",\n        \"std\": 0.005951200840202815,\n        \"min\": 0.005333333333333334,\n        \"max\": 0.03087813021702839,\n        \"num_unique_values\": 108,\n        \"samples\": [\n          0.030127413127413127,\n          0.01650892857142857,\n          0.010173076923076924\n        ],\n        \"semantic_type\": \"\",\n        \"description\": \"\"\n      }\n    }\n  ]\n}"
            }
          },
          "metadata": {},
          "execution_count": 42
        }
      ],
      "source": [
        "data='/content/Dhirendra719/Book1.xlsx'\n",
        "df=pd.read_excel(data)\n",
        "df"
      ]
    },
    {
      "cell_type": "code",
      "execution_count": null,
      "metadata": {
        "colab": {
          "base_uri": "https://localhost:8080/",
          "height": 846
        },
        "id": "YJ2fO8BRypXy",
        "outputId": "67cddcbf-2c37-45c1-d20e-de5b2f132dbd"
      },
      "outputs": [
        {
          "data": {
            "image/png": "[encoded data removed]",
            "text/plain": [
              "<Figure size 640x480 with 1 Axes>"
            ]
          },
          "metadata": {},
          "output_type": "display_data"
        },
        {
          "data": {
            "image/png": "[encoded data removed]",
            "text/plain": [
              "<Figure size 640x480 with 1 Axes>"
            ]
          },
          "metadata": {},
          "output_type": "display_data"
        }
      ],
      "source": [
        "y=df['RL']\n",
        "x=df['P']\n",
        "z=df['efficency']\n",
        "\n",
        "#plot\n",
        "plt.plot(y,x)\n",
        "plt.show()\n",
        "plt.plot(y,z)\n",
        "plt.show()\n",
        "\n"
      ]
    },
    {
      "cell_type": "markdown",
      "metadata": {
        "id": "2GReOTN9im1x"
      },
      "source": [
        "Line plot"
      ]
    },
    {
      "cell_type": "code",
      "execution_count": 43,
      "metadata": {
        "colab": {
          "base_uri": "https://localhost:8080/",
          "height": 708
        },
        "id": "vx96GFrUieMa",
        "outputId": "fd9a476b-aee0-407b-ba0e-491c40566dc7"
      },
      "outputs": [
        {
          "output_type": "stream",
          "name": "stdout",
          "text": [
            "        RL         P\n",
            "0      1.2  0.005333\n",
            "1      2.2  0.006545\n",
            "2      3.2  0.008000\n",
            "3      4.1  0.008805\n",
            "4      5.2  0.010173\n",
            "..     ...       ...\n",
            "103  144.7  0.025742\n",
            "104  154.7  0.025087\n",
            "105  164.6  0.024301\n",
            "106  174.7  0.023821\n",
            "107  184.7  0.023199\n",
            "\n",
            "[108 rows x 2 columns]\n"
          ]
        },
        {
          "output_type": "execute_result",
          "data": {
            "text/plain": [
              "[<matplotlib.lines.Line2D at 0x7b71635579d0>,\n",
              " <matplotlib.lines.Line2D at 0x7b7163557a30>]"
            ]
          },
          "metadata": {},
          "execution_count": 43
        },
        {
          "output_type": "display_data",
          "data": {
            "text/plain": [
              "<Figure size 640x480 with 1 Axes>"
            ],
            "image/png": "[encoded data removed]"
          },
          "metadata": {}
        }
      ],
      "source": [
        "x=df['RL']\n",
        "y=df['P']\n",
        "z=df['efficency']\n",
        "\n",
        "#use style\n",
        "\n",
        "\n",
        "#create dataFrame and indexing\n",
        "sinDF=pd.DataFrame({'RL':x,'P':y})\n",
        "print(sinDF)\n",
        "\n",
        "#plot\n",
        "plt.plot(sinDF)"
      ]
    },
    {
      "cell_type": "code",
      "execution_count": 44,
      "metadata": {
        "colab": {
          "base_uri": "https://localhost:8080/"
        },
        "id": "G8VEbz_diVdZ",
        "outputId": "78360729-4481-42d7-c2fb-86bcf1897072"
      },
      "outputs": [
        {
          "output_type": "stream",
          "name": "stdout",
          "text": [
            "3.7.1\n"
          ]
        }
      ],
      "source": [
        "#Check version\n",
        "import matplotlib\n",
        "print(matplotlib.__version__)"
      ]
    },
    {
      "cell_type": "markdown",
      "metadata": {
        "id": "pr5f1Qswi21V"
      },
      "source": [
        "## How to import and create Data\n",
        "  create data using numpy"
      ]
    },
    {
      "cell_type": "code",
      "execution_count": 45,
      "metadata": {
        "colab": {
          "base_uri": "https://localhost:8080/",
          "height": 206
        },
        "id": "UEuaNj-pjHN-",
        "outputId": "b9b09aa6-5d2c-4cdf-a0af-8b0c559b80e7"
      },
      "outputs": [
        {
          "output_type": "execute_result",
          "data": {
            "text/plain": [
              "   x   y  z\n",
              "0  1   3  2\n",
              "1  2   5  3\n",
              "2  3   7  4\n",
              "3  4   9  5\n",
              "4  5  11  6"
            ],
            "text/html": [
              "\n",
              "  <div id=\"df-4b3340cd-e8c7-4eb4-b75c-4ee52064d63c\" class=\"colab-df-container\">\n",
              "    <div>\n",
              "<style scoped>\n",
              "    .dataframe tbody tr th:only-of-type {\n",
              "        vertical-align: middle;\n",
              "    }\n",
              "\n",
              "    .dataframe tbody tr th {\n",
              "        vertical-align: top;\n",
              "    }\n",
              "\n",
              "    .dataframe thead th {\n",
              "        text-align: right;\n",
              "    }\n",
              "</style>\n",
              "<table border=\"1\" class=\"dataframe\">\n",
              "  <thead>\n",
              "    <tr style=\"text-align: right;\">\n",
              "      <th></th>\n",
              "      <th>x</th>\n",
              "      <th>y</th>\n",
              "      <th>z</th>\n",
              "    </tr>\n",
              "  </thead>\n",
              "  <tbody>\n",
              "    <tr>\n",
              "      <th>0</th>\n",
              "      <td>1</td>\n",
              "      <td>3</td>\n",
              "      <td>2</td>\n",
              "    </tr>\n",
              "    <tr>\n",
              "      <th>1</th>\n",
              "      <td>2</td>\n",
              "      <td>5</td>\n",
              "      <td>3</td>\n",
              "    </tr>\n",
              "    <tr>\n",
              "      <th>2</th>\n",
              "      <td>3</td>\n",
              "      <td>7</td>\n",
              "      <td>4</td>\n",
              "    </tr>\n",
              "    <tr>\n",
              "      <th>3</th>\n",
              "      <td>4</td>\n",
              "      <td>9</td>\n",
              "      <td>5</td>\n",
              "    </tr>\n",
              "    <tr>\n",
              "      <th>4</th>\n",
              "      <td>5</td>\n",
              "      <td>11</td>\n",
              "      <td>6</td>\n",
              "    </tr>\n",
              "  </tbody>\n",
              "</table>\n",
              "</div>\n",
              "    <div class=\"colab-df-buttons\">\n",
              "\n",
              "  <div class=\"colab-df-container\">\n",
              "    <button class=\"colab-df-convert\" onclick=\"convertToInteractive('df-4b3340cd-e8c7-4eb4-b75c-4ee52064d63c')\"\n",
              "            title=\"Convert this dataframe to an interactive table.\"\n",
              "            style=\"display:none;\">\n",
              "\n",
              "  <svg xmlns=\"http://www.w3.org/2000/svg\" height=\"24px\" viewBox=\"0 -960 960 960\">\n",
              "    <path d=\"M120-120v-720h720v720H120Zm60-500h600v-160H180v160Zm220 220h160v-160H400v160Zm0 220h160v-160H400v160ZM180-400h160v-160H180v160Zm440 0h160v-160H620v160ZM180-180h160v-160H180v160Zm440 0h160v-160H620v160Z\"/>\n",
              "  </svg>\n",
              "    </button>\n",
              "\n",
              "  <style>\n",
              "    .colab-df-container {\n",
              "      display:flex;\n",
              "      gap: 12px;\n",
              "    }\n",
              "\n",
              "    .colab-df-convert {\n",
              "      background-color: #E8F0FE;\n",
              "      border: none;\n",
              "      border-radius: 50%;\n",
              "      cursor: pointer;\n",
              "      display: none;\n",
              "      fill: #1967D2;\n",
              "      height: 32px;\n",
              "      padding: 0 0 0 0;\n",
              "      width: 32px;\n",
              "    }\n",
              "\n",
              "    .colab-df-convert:hover {\n",
              "      background-color: #E2EBFA;\n",
              "      box-shadow: 0px 1px 2px rgba(60, 64, 67, 0.3), 0px 1px 3px 1px rgba(60, 64, 67, 0.15);\n",
              "      fill: #174EA6;\n",
              "    }\n",
              "\n",
              "    .colab-df-buttons div {\n",
              "      margin-bottom: 4px;\n",
              "    }\n",
              "\n",
              "    [theme=dark] .colab-df-convert {\n",
              "      background-color: #3B4455;\n",
              "      fill: #D2E3FC;\n",
              "    }\n",
              "\n",
              "    [theme=dark] .colab-df-convert:hover {\n",
              "      background-color: #434B5C;\n",
              "      box-shadow: 0px 1px 3px 1px rgba(0, 0, 0, 0.15);\n",
              "      filter: drop-shadow(0px 1px 2px rgba(0, 0, 0, 0.3));\n",
              "      fill: #FFFFFF;\n",
              "    }\n",
              "  </style>\n",
              "\n",
              "    <script>\n",
              "      const buttonEl =\n",
              "        document.querySelector('#df-4b3340cd-e8c7-4eb4-b75c-4ee52064d63c button.colab-df-convert');\n",
              "      buttonEl.style.display =\n",
              "        google.colab.kernel.accessAllowed ? 'block' : 'none';\n",
              "\n",
              "      async function convertToInteractive(key) {\n",
              "        const element = document.querySelector('#df-4b3340cd-e8c7-4eb4-b75c-4ee52064d63c');\n",
              "        const dataTable =\n",
              "          await google.colab.kernel.invokeFunction('convertToInteractive',\n",
              "                                                    [key], {});\n",
              "        if (!dataTable) return;\n",
              "\n",
              "        const docLinkHtml = 'Like what you see? Visit the ' +\n",
              "          '<a target=\"_blank\" href=https://colab.research.google.com/notebooks/data_table.ipynb>data table notebook</a>'\n",
              "          + ' to learn more about interactive tables.';\n",
              "        element.innerHTML = '';\n",
              "        dataTable['output_type'] = 'display_data';\n",
              "        await google.colab.output.renderOutput(dataTable, element);\n",
              "        const docLink = document.createElement('div');\n",
              "        docLink.innerHTML = docLinkHtml;\n",
              "        element.appendChild(docLink);\n",
              "      }\n",
              "    </script>\n",
              "  </div>\n",
              "\n",
              "\n",
              "<div id=\"df-dc466a31-e0ab-46af-9c0a-2903fb6a8086\">\n",
              "  <button class=\"colab-df-quickchart\" onclick=\"quickchart('df-dc466a31-e0ab-46af-9c0a-2903fb6a8086')\"\n",
              "            title=\"Suggest charts\"\n",
              "            style=\"display:none;\">\n",
              "\n",
              "<svg xmlns=\"http://www.w3.org/2000/svg\" height=\"24px\"viewBox=\"0 0 24 24\"\n",
              "     width=\"24px\">\n",
              "    <g>\n",
              "        <path d=\"M19 3H5c-1.1 0-2 .9-2 2v14c0 1.1.9 2 2 2h14c1.1 0 2-.9 2-2V5c0-1.1-.9-2-2-2zM9 17H7v-7h2v7zm4 0h-2V7h2v10zm4 0h-2v-4h2v4z\"/>\n",
              "    </g>\n",
              "</svg>\n",
              "  </button>\n",
              "\n",
              "<style>\n",
              "  .colab-df-quickchart {\n",
              "      --bg-color: #E8F0FE;\n",
              "      --fill-color: #1967D2;\n",
              "      --hover-bg-color: #E2EBFA;\n",
              "      --hover-fill-color: #174EA6;\n",
              "      --disabled-fill-color: #AAA;\n",
              "      --disabled-bg-color: #DDD;\n",
              "  }\n",
              "\n",
              "  [theme=dark] .colab-df-quickchart {\n",
              "      --bg-color: #3B4455;\n",
              "      --fill-color: #D2E3FC;\n",
              "      --hover-bg-color: #434B5C;\n",
              "      --hover-fill-color: #FFFFFF;\n",
              "      --disabled-bg-color: #3B4455;\n",
              "      --disabled-fill-color: #666;\n",
              "  }\n",
              "\n",
              "  .colab-df-quickchart {\n",
              "    background-color: var(--bg-color);\n",
              "    border: none;\n",
              "    border-radius: 50%;\n",
              "    cursor: pointer;\n",
              "    display: none;\n",
              "    fill: var(--fill-color);\n",
              "    height: 32px;\n",
              "    padding: 0;\n",
              "    width: 32px;\n",
              "  }\n",
              "\n",
              "  .colab-df-quickchart:hover {\n",
              "    background-color: var(--hover-bg-color);\n",
              "    box-shadow: 0 1px 2px rgba(60, 64, 67, 0.3), 0 1px 3px 1px rgba(60, 64, 67, 0.15);\n",
              "    fill: var(--button-hover-fill-color);\n",
              "  }\n",
              "\n",
              "  .colab-df-quickchart-complete:disabled,\n",
              "  .colab-df-quickchart-complete:disabled:hover {\n",
              "    background-color: var(--disabled-bg-color);\n",
              "    fill: var(--disabled-fill-color);\n",
              "    box-shadow: none;\n",
              "  }\n",
              "\n",
              "  .colab-df-spinner {\n",
              "    border: 2px solid var(--fill-color);\n",
              "    border-color: transparent;\n",
              "    border-bottom-color: var(--fill-color);\n",
              "    animation:\n",
              "      spin 1s steps(1) infinite;\n",
              "  }\n",
              "\n",
              "  @keyframes spin {\n",
              "    0% {\n",
              "      border-color: transparent;\n",
              "      border-bottom-color: var(--fill-color);\n",
              "      border-left-color: var(--fill-color);\n",
              "    }\n",
              "    20% {\n",
              "      border-color: transparent;\n",
              "      border-left-color: var(--fill-color);\n",
              "      border-top-color: var(--fill-color);\n",
              "    }\n",
              "    30% {\n",
              "      border-color: transparent;\n",
              "      border-left-color: var(--fill-color);\n",
              "      border-top-color: var(--fill-color);\n",
              "      border-right-color: var(--fill-color);\n",
              "    }\n",
              "    40% {\n",
              "      border-color: transparent;\n",
              "      border-right-color: var(--fill-color);\n",
              "      border-top-color: var(--fill-color);\n",
              "    }\n",
              "    60% {\n",
              "      border-color: transparent;\n",
              "      border-right-color: var(--fill-color);\n",
              "    }\n",
              "    80% {\n",
              "      border-color: transparent;\n",
              "      border-right-color: var(--fill-color);\n",
              "      border-bottom-color: var(--fill-color);\n",
              "    }\n",
              "    90% {\n",
              "      border-color: transparent;\n",
              "      border-bottom-color: var(--fill-color);\n",
              "    }\n",
              "  }\n",
              "</style>\n",
              "\n",
              "  <script>\n",
              "    async function quickchart(key) {\n",
              "      const quickchartButtonEl =\n",
              "        document.querySelector('#' + key + ' button');\n",
              "      quickchartButtonEl.disabled = true;  // To prevent multiple clicks.\n",
              "      quickchartButtonEl.classList.add('colab-df-spinner');\n",
              "      try {\n",
              "        const charts = await google.colab.kernel.invokeFunction(\n",
              "            'suggestCharts', [key], {});\n",
              "      } catch (error) {\n",
              "        console.error('Error during call to suggestCharts:', error);\n",
              "      }\n",
              "      quickchartButtonEl.classList.remove('colab-df-spinner');\n",
              "      quickchartButtonEl.classList.add('colab-df-quickchart-complete');\n",
              "    }\n",
              "    (() => {\n",
              "      let quickchartButtonEl =\n",
              "        document.querySelector('#df-dc466a31-e0ab-46af-9c0a-2903fb6a8086 button');\n",
              "      quickchartButtonEl.style.display =\n",
              "        google.colab.kernel.accessAllowed ? 'block' : 'none';\n",
              "    })();\n",
              "  </script>\n",
              "</div>\n",
              "\n",
              "    </div>\n",
              "  </div>\n"
            ],
            "application/vnd.google.colaboratory.intrinsic+json": {
              "type": "dataframe",
              "variable_name": "df",
              "summary": "{\n  \"name\": \"df\",\n  \"rows\": 100,\n  \"fields\": [\n    {\n      \"column\": \"x\",\n      \"properties\": {\n        \"dtype\": \"number\",\n        \"std\": 29,\n        \"min\": 1,\n        \"max\": 100,\n        \"num_unique_values\": 100,\n        \"samples\": [\n          84,\n          54,\n          71\n        ],\n        \"semantic_type\": \"\",\n        \"description\": \"\"\n      }\n    },\n    {\n      \"column\": \"y\",\n      \"properties\": {\n        \"dtype\": \"number\",\n        \"std\": 58,\n        \"min\": 3,\n        \"max\": 201,\n        \"num_unique_values\": 100,\n        \"samples\": [\n          169,\n          109,\n          143\n        ],\n        \"semantic_type\": \"\",\n        \"description\": \"\"\n      }\n    },\n    {\n      \"column\": \"z\",\n      \"properties\": {\n        \"dtype\": \"number\",\n        \"std\": 29,\n        \"min\": 2,\n        \"max\": 101,\n        \"num_unique_values\": 100,\n        \"samples\": [\n          85,\n          55,\n          72\n        ],\n        \"semantic_type\": \"\",\n        \"description\": \"\"\n      }\n    }\n  ]\n}"
            }
          },
          "metadata": {},
          "execution_count": 45
        }
      ],
      "source": [
        "#fetching/creating datas\n",
        "\n",
        "x=np.arange(1,101)\n",
        "y=2*x+1\n",
        "z=y-x\n",
        "\n",
        "#create dataFrame\n",
        "df=pd.DataFrame({'x':x,'y':y,'z':z})\n",
        "df.head()\n"
      ]
    },
    {
      "cell_type": "markdown",
      "metadata": {
        "id": "ST4s-D7ckFdO"
      },
      "source": [
        "# Import/Fetch Data from CSV File"
      ]
    },
    {
      "cell_type": "code",
      "execution_count": 46,
      "metadata": {
        "colab": {
          "base_uri": "https://localhost:8080/",
          "height": 243
        },
        "id": "sKAMWLsqkhHx",
        "outputId": "57315cd4-68de-4622-a756-5bdd89082176"
      },
      "outputs": [
        {
          "output_type": "execute_result",
          "data": {
            "text/plain": [
              "   AtomicNumber Symbol       Name  AtomicMass CPKHexColor  \\\n",
              "0             1      H   Hydrogen    1.008000      FFFFFF   \n",
              "1             2     He     Helium    4.002600      D9FFFF   \n",
              "2             3     Li    Lithium    7.000000      CC80FF   \n",
              "3             4     Be  Beryllium    9.012183      C2FF00   \n",
              "4             5      B      Boron   10.810000      FFB5B5   \n",
              "\n",
              "  ElectronConfiguration  Electronegativity  AtomicRadius  IonizationEnergy  \\\n",
              "0                   1s1               2.20         120.0            13.598   \n",
              "1                   1s2                NaN         140.0            24.587   \n",
              "2               [He]2s1               0.98         182.0             5.392   \n",
              "3               [He]2s2               1.57         153.0             9.323   \n",
              "4           [He]2s2 2p1               2.04         192.0             8.298   \n",
              "\n",
              "   ElectronAffinity OxidationStates StandardState  MeltingPoint  BoilingPoint  \\\n",
              "0             0.754          +1, -1           Gas         13.81         20.28   \n",
              "1               NaN               0           Gas          0.95          4.22   \n",
              "2             0.618              +1         Solid        453.65       1615.00   \n",
              "3               NaN              +2         Solid       1560.00       2744.00   \n",
              "4             0.277              +3         Solid       2348.00       4273.00   \n",
              "\n",
              "    Density            GroupBlock YearDiscovered  \n",
              "0  0.000090              Nonmetal           1766  \n",
              "1  0.000179             Noble gas           1868  \n",
              "2  0.534000          Alkali metal           1817  \n",
              "3  1.850000  Alkaline earth metal           1798  \n",
              "4  2.370000             Metalloid           1808  "
            ],
            "text/html": [
              "\n",
              "  <div id=\"df-5a6533bc-e1e8-42c5-ade5-3ff67fc001d9\" class=\"colab-df-container\">\n",
              "    <div>\n",
              "<style scoped>\n",
              "    .dataframe tbody tr th:only-of-type {\n",
              "        vertical-align: middle;\n",
              "    }\n",
              "\n",
              "    .dataframe tbody tr th {\n",
              "        vertical-align: top;\n",
              "    }\n",
              "\n",
              "    .dataframe thead th {\n",
              "        text-align: right;\n",
              "    }\n",
              "</style>\n",
              "<table border=\"1\" class=\"dataframe\">\n",
              "  <thead>\n",
              "    <tr style=\"text-align: right;\">\n",
              "      <th></th>\n",
              "      <th>AtomicNumber</th>\n",
              "      <th>Symbol</th>\n",
              "      <th>Name</th>\n",
              "      <th>AtomicMass</th>\n",
              "      <th>CPKHexColor</th>\n",
              "      <th>ElectronConfiguration</th>\n",
              "      <th>Electronegativity</th>\n",
              "      <th>AtomicRadius</th>\n",
              "      <th>IonizationEnergy</th>\n",
              "      <th>ElectronAffinity</th>\n",
              "      <th>OxidationStates</th>\n",
              "      <th>StandardState</th>\n",
              "      <th>MeltingPoint</th>\n",
              "      <th>BoilingPoint</th>\n",
              "      <th>Density</th>\n",
              "      <th>GroupBlock</th>\n",
              "      <th>YearDiscovered</th>\n",
              "    </tr>\n",
              "  </thead>\n",
              "  <tbody>\n",
              "    <tr>\n",
              "      <th>0</th>\n",
              "      <td>1</td>\n",
              "      <td>H</td>\n",
              "      <td>Hydrogen</td>\n",
              "      <td>1.008000</td>\n",
              "      <td>FFFFFF</td>\n",
              "      <td>1s1</td>\n",
              "      <td>2.20</td>\n",
              "      <td>120.0</td>\n",
              "      <td>13.598</td>\n",
              "      <td>0.754</td>\n",
              "      <td>+1, -1</td>\n",
              "      <td>Gas</td>\n",
              "      <td>13.81</td>\n",
              "      <td>20.28</td>\n",
              "      <td>0.000090</td>\n",
              "      <td>Nonmetal</td>\n",
              "      <td>1766</td>\n",
              "    </tr>\n",
              "    <tr>\n",
              "      <th>1</th>\n",
              "      <td>2</td>\n",
              "      <td>He</td>\n",
              "      <td>Helium</td>\n",
              "      <td>4.002600</td>\n",
              "      <td>D9FFFF</td>\n",
              "      <td>1s2</td>\n",
              "      <td>NaN</td>\n",
              "      <td>140.0</td>\n",
              "      <td>24.587</td>\n",
              "      <td>NaN</td>\n",
              "      <td>0</td>\n",
              "      <td>Gas</td>\n",
              "      <td>0.95</td>\n",
              "      <td>4.22</td>\n",
              "      <td>0.000179</td>\n",
              "      <td>Noble gas</td>\n",
              "      <td>1868</td>\n",
              "    </tr>\n",
              "    <tr>\n",
              "      <th>2</th>\n",
              "      <td>3</td>\n",
              "      <td>Li</td>\n",
              "      <td>Lithium</td>\n",
              "      <td>7.000000</td>\n",
              "      <td>CC80FF</td>\n",
              "      <td>[He]2s1</td>\n",
              "      <td>0.98</td>\n",
              "      <td>182.0</td>\n",
              "      <td>5.392</td>\n",
              "      <td>0.618</td>\n",
              "      <td>+1</td>\n",
              "      <td>Solid</td>\n",
              "      <td>453.65</td>\n",
              "      <td>1615.00</td>\n",
              "      <td>0.534000</td>\n",
              "      <td>Alkali metal</td>\n",
              "      <td>1817</td>\n",
              "    </tr>\n",
              "    <tr>\n",
              "      <th>3</th>\n",
              "      <td>4</td>\n",
              "      <td>Be</td>\n",
              "      <td>Beryllium</td>\n",
              "      <td>9.012183</td>\n",
              "      <td>C2FF00</td>\n",
              "      <td>[He]2s2</td>\n",
              "      <td>1.57</td>\n",
              "      <td>153.0</td>\n",
              "      <td>9.323</td>\n",
              "      <td>NaN</td>\n",
              "      <td>+2</td>\n",
              "      <td>Solid</td>\n",
              "      <td>1560.00</td>\n",
              "      <td>2744.00</td>\n",
              "      <td>1.850000</td>\n",
              "      <td>Alkaline earth metal</td>\n",
              "      <td>1798</td>\n",
              "    </tr>\n",
              "    <tr>\n",
              "      <th>4</th>\n",
              "      <td>5</td>\n",
              "      <td>B</td>\n",
              "      <td>Boron</td>\n",
              "      <td>10.810000</td>\n",
              "      <td>FFB5B5</td>\n",
              "      <td>[He]2s2 2p1</td>\n",
              "      <td>2.04</td>\n",
              "      <td>192.0</td>\n",
              "      <td>8.298</td>\n",
              "      <td>0.277</td>\n",
              "      <td>+3</td>\n",
              "      <td>Solid</td>\n",
              "      <td>2348.00</td>\n",
              "      <td>4273.00</td>\n",
              "      <td>2.370000</td>\n",
              "      <td>Metalloid</td>\n",
              "      <td>1808</td>\n",
              "    </tr>\n",
              "  </tbody>\n",
              "</table>\n",
              "</div>\n",
              "    <div class=\"colab-df-buttons\">\n",
              "\n",
              "  <div class=\"colab-df-container\">\n",
              "    <button class=\"colab-df-convert\" onclick=\"convertToInteractive('df-5a6533bc-e1e8-42c5-ade5-3ff67fc001d9')\"\n",
              "            title=\"Convert this dataframe to an interactive table.\"\n",
              "            style=\"display:none;\">\n",
              "\n",
              "  <svg xmlns=\"http://www.w3.org/2000/svg\" height=\"24px\" viewBox=\"0 -960 960 960\">\n",
              "    <path d=\"M120-120v-720h720v720H120Zm60-500h600v-160H180v160Zm220 220h160v-160H400v160Zm0 220h160v-160H400v160ZM180-400h160v-160H180v160Zm440 0h160v-160H620v160ZM180-180h160v-160H180v160Zm440 0h160v-160H620v160Z\"/>\n",
              "  </svg>\n",
              "    </button>\n",
              "\n",
              "  <style>\n",
              "    .colab-df-container {\n",
              "      display:flex;\n",
              "      gap: 12px;\n",
              "    }\n",
              "\n",
              "    .colab-df-convert {\n",
              "      background-color: #E8F0FE;\n",
              "      border: none;\n",
              "      border-radius: 50%;\n",
              "      cursor: pointer;\n",
              "      display: none;\n",
              "      fill: #1967D2;\n",
              "      height: 32px;\n",
              "      padding: 0 0 0 0;\n",
              "      width: 32px;\n",
              "    }\n",
              "\n",
              "    .colab-df-convert:hover {\n",
              "      background-color: #E2EBFA;\n",
              "      box-shadow: 0px 1px 2px rgba(60, 64, 67, 0.3), 0px 1px 3px 1px rgba(60, 64, 67, 0.15);\n",
              "      fill: #174EA6;\n",
              "    }\n",
              "\n",
              "    .colab-df-buttons div {\n",
              "      margin-bottom: 4px;\n",
              "    }\n",
              "\n",
              "    [theme=dark] .colab-df-convert {\n",
              "      background-color: #3B4455;\n",
              "      fill: #D2E3FC;\n",
              "    }\n",
              "\n",
              "    [theme=dark] .colab-df-convert:hover {\n",
              "      background-color: #434B5C;\n",
              "      box-shadow: 0px 1px 3px 1px rgba(0, 0, 0, 0.15);\n",
              "      filter: drop-shadow(0px 1px 2px rgba(0, 0, 0, 0.3));\n",
              "      fill: #FFFFFF;\n",
              "    }\n",
              "  </style>\n",
              "\n",
              "    <script>\n",
              "      const buttonEl =\n",
              "        document.querySelector('#df-5a6533bc-e1e8-42c5-ade5-3ff67fc001d9 button.colab-df-convert');\n",
              "      buttonEl.style.display =\n",
              "        google.colab.kernel.accessAllowed ? 'block' : 'none';\n",
              "\n",
              "      async function convertToInteractive(key) {\n",
              "        const element = document.querySelector('#df-5a6533bc-e1e8-42c5-ade5-3ff67fc001d9');\n",
              "        const dataTable =\n",
              "          await google.colab.kernel.invokeFunction('convertToInteractive',\n",
              "                                                    [key], {});\n",
              "        if (!dataTable) return;\n",
              "\n",
              "        const docLinkHtml = 'Like what you see? Visit the ' +\n",
              "          '<a target=\"_blank\" href=https://colab.research.google.com/notebooks/data_table.ipynb>data table notebook</a>'\n",
              "          + ' to learn more about interactive tables.';\n",
              "        element.innerHTML = '';\n",
              "        dataTable['output_type'] = 'display_data';\n",
              "        await google.colab.output.renderOutput(dataTable, element);\n",
              "        const docLink = document.createElement('div');\n",
              "        docLink.innerHTML = docLinkHtml;\n",
              "        element.appendChild(docLink);\n",
              "      }\n",
              "    </script>\n",
              "  </div>\n",
              "\n",
              "\n",
              "<div id=\"df-d900eca9-94d5-4cc5-9c86-b133fdd5a0a1\">\n",
              "  <button class=\"colab-df-quickchart\" onclick=\"quickchart('df-d900eca9-94d5-4cc5-9c86-b133fdd5a0a1')\"\n",
              "            title=\"Suggest charts\"\n",
              "            style=\"display:none;\">\n",
              "\n",
              "<svg xmlns=\"http://www.w3.org/2000/svg\" height=\"24px\"viewBox=\"0 0 24 24\"\n",
              "     width=\"24px\">\n",
              "    <g>\n",
              "        <path d=\"M19 3H5c-1.1 0-2 .9-2 2v14c0 1.1.9 2 2 2h14c1.1 0 2-.9 2-2V5c0-1.1-.9-2-2-2zM9 17H7v-7h2v7zm4 0h-2V7h2v10zm4 0h-2v-4h2v4z\"/>\n",
              "    </g>\n",
              "</svg>\n",
              "  </button>\n",
              "\n",
              "<style>\n",
              "  .colab-df-quickchart {\n",
              "      --bg-color: #E8F0FE;\n",
              "      --fill-color: #1967D2;\n",
              "      --hover-bg-color: #E2EBFA;\n",
              "      --hover-fill-color: #174EA6;\n",
              "      --disabled-fill-color: #AAA;\n",
              "      --disabled-bg-color: #DDD;\n",
              "  }\n",
              "\n",
              "  [theme=dark] .colab-df-quickchart {\n",
              "      --bg-color: #3B4455;\n",
              "      --fill-color: #D2E3FC;\n",
              "      --hover-bg-color: #434B5C;\n",
              "      --hover-fill-color: #FFFFFF;\n",
              "      --disabled-bg-color: #3B4455;\n",
              "      --disabled-fill-color: #666;\n",
              "  }\n",
              "\n",
              "  .colab-df-quickchart {\n",
              "    background-color: var(--bg-color);\n",
              "    border: none;\n",
              "    border-radius: 50%;\n",
              "    cursor: pointer;\n",
              "    display: none;\n",
              "    fill: var(--fill-color);\n",
              "    height: 32px;\n",
              "    padding: 0;\n",
              "    width: 32px;\n",
              "  }\n",
              "\n",
              "  .colab-df-quickchart:hover {\n",
              "    background-color: var(--hover-bg-color);\n",
              "    box-shadow: 0 1px 2px rgba(60, 64, 67, 0.3), 0 1px 3px 1px rgba(60, 64, 67, 0.15);\n",
              "    fill: var(--button-hover-fill-color);\n",
              "  }\n",
              "\n",
              "  .colab-df-quickchart-complete:disabled,\n",
              "  .colab-df-quickchart-complete:disabled:hover {\n",
              "    background-color: var(--disabled-bg-color);\n",
              "    fill: var(--disabled-fill-color);\n",
              "    box-shadow: none;\n",
              "  }\n",
              "\n",
              "  .colab-df-spinner {\n",
              "    border: 2px solid var(--fill-color);\n",
              "    border-color: transparent;\n",
              "    border-bottom-color: var(--fill-color);\n",
              "    animation:\n",
              "      spin 1s steps(1) infinite;\n",
              "  }\n",
              "\n",
              "  @keyframes spin {\n",
              "    0% {\n",
              "      border-color: transparent;\n",
              "      border-bottom-color: var(--fill-color);\n",
              "      border-left-color: var(--fill-color);\n",
              "    }\n",
              "    20% {\n",
              "      border-color: transparent;\n",
              "      border-left-color: var(--fill-color);\n",
              "      border-top-color: var(--fill-color);\n",
              "    }\n",
              "    30% {\n",
              "      border-color: transparent;\n",
              "      border-left-color: var(--fill-color);\n",
              "      border-top-color: var(--fill-color);\n",
              "      border-right-color: var(--fill-color);\n",
              "    }\n",
              "    40% {\n",
              "      border-color: transparent;\n",
              "      border-right-color: var(--fill-color);\n",
              "      border-top-color: var(--fill-color);\n",
              "    }\n",
              "    60% {\n",
              "      border-color: transparent;\n",
              "      border-right-color: var(--fill-color);\n",
              "    }\n",
              "    80% {\n",
              "      border-color: transparent;\n",
              "      border-right-color: var(--fill-color);\n",
              "      border-bottom-color: var(--fill-color);\n",
              "    }\n",
              "    90% {\n",
              "      border-color: transparent;\n",
              "      border-bottom-color: var(--fill-color);\n",
              "    }\n",
              "  }\n",
              "</style>\n",
              "\n",
              "  <script>\n",
              "    async function quickchart(key) {\n",
              "      const quickchartButtonEl =\n",
              "        document.querySelector('#' + key + ' button');\n",
              "      quickchartButtonEl.disabled = true;  // To prevent multiple clicks.\n",
              "      quickchartButtonEl.classList.add('colab-df-spinner');\n",
              "      try {\n",
              "        const charts = await google.colab.kernel.invokeFunction(\n",
              "            'suggestCharts', [key], {});\n",
              "      } catch (error) {\n",
              "        console.error('Error during call to suggestCharts:', error);\n",
              "      }\n",
              "      quickchartButtonEl.classList.remove('colab-df-spinner');\n",
              "      quickchartButtonEl.classList.add('colab-df-quickchart-complete');\n",
              "    }\n",
              "    (() => {\n",
              "      let quickchartButtonEl =\n",
              "        document.querySelector('#df-d900eca9-94d5-4cc5-9c86-b133fdd5a0a1 button');\n",
              "      quickchartButtonEl.style.display =\n",
              "        google.colab.kernel.accessAllowed ? 'block' : 'none';\n",
              "    })();\n",
              "  </script>\n",
              "</div>\n",
              "\n",
              "    </div>\n",
              "  </div>\n"
            ],
            "application/vnd.google.colaboratory.intrinsic+json": {
              "type": "dataframe",
              "variable_name": "p_df",
              "summary": "{\n  \"name\": \"p_df\",\n  \"rows\": 118,\n  \"fields\": [\n    {\n      \"column\": \"AtomicNumber\",\n      \"properties\": {\n        \"dtype\": \"number\",\n        \"std\": 34,\n        \"min\": 1,\n        \"max\": 118,\n        \"num_unique_values\": 118,\n        \"samples\": [\n          57,\n          90,\n          5\n        ],\n        \"semantic_type\": \"\",\n        \"description\": \"\"\n      }\n    },\n    {\n      \"column\": \"Symbol\",\n      \"properties\": {\n        \"dtype\": \"string\",\n        \"num_unique_values\": 118,\n        \"samples\": [\n          \"La\",\n          \"Th\",\n          \"B\"\n        ],\n        \"semantic_type\": \"\",\n        \"description\": \"\"\n      }\n    },\n    {\n      \"column\": \"Name\",\n      \"properties\": {\n        \"dtype\": \"string\",\n        \"num_unique_values\": 118,\n        \"samples\": [\n          \"Lanthanum\",\n          \"Thorium\",\n          \"Boron\"\n        ],\n        \"semantic_type\": \"\",\n        \"description\": \"\"\n      }\n    },\n    {\n      \"column\": \"AtomicMass\",\n      \"properties\": {\n        \"dtype\": \"number\",\n        \"std\": 89.76830563748716,\n        \"min\": 1.008,\n        \"max\": 295.216,\n        \"num_unique_values\": 118,\n        \"samples\": [\n          138.9055,\n          232.038,\n          10.81\n        ],\n        \"semantic_type\": \"\",\n        \"description\": \"\"\n      }\n    },\n    {\n      \"column\": \"CPKHexColor\",\n      \"properties\": {\n        \"dtype\": \"string\",\n        \"num_unique_values\": 108,\n        \"samples\": [\n          \"FFD123\",\n          \"AB5CF2\",\n          \"FFB5B5\"\n        ],\n        \"semantic_type\": \"\",\n        \"description\": \"\"\n      }\n    },\n    {\n      \"column\": \"ElectronConfiguration\",\n      \"properties\": {\n        \"dtype\": \"string\",\n        \"num_unique_values\": 118,\n        \"samples\": [\n          \"[Xe]6s2 5d1\",\n          \"[Rn]7s2 6d2\",\n          \"[He]2s2 2p1\"\n        ],\n        \"semantic_type\": \"\",\n        \"description\": \"\"\n      }\n    },\n    {\n      \"column\": \"Electronegativity\",\n      \"properties\": {\n        \"dtype\": \"number\",\n        \"std\": 0.6351871103647901,\n        \"min\": 0.7,\n        \"max\": 3.98,\n        \"num_unique_values\": 69,\n        \"samples\": [\n          1.83,\n          2.2,\n          1.1\n        ],\n        \"semantic_type\": \"\",\n        \"description\": \"\"\n      }\n    },\n    {\n      \"column\": \"AtomicRadius\",\n      \"properties\": {\n        \"dtype\": \"number\",\n        \"std\": 38.56913038955364,\n        \"min\": 120.0,\n        \"max\": 348.0,\n        \"num_unique_values\": 66,\n        \"samples\": [\n          221.0,\n          260.0,\n          120.0\n        ],\n        \"semantic_type\": \"\",\n        \"description\": \"\"\n      }\n    },\n    {\n      \"column\": \"IonizationEnergy\",\n      \"properties\": {\n        \"dtype\": \"number\",\n        \"std\": 3.3390658849274932,\n        \"min\": 3.894,\n        \"max\": 24.587,\n        \"num_unique_values\": 101,\n        \"samples\": [\n          10.745,\n          5.212,\n          6.022\n        ],\n        \"semantic_type\": \"\",\n        \"description\": \"\"\n      }\n    },\n    {\n      \"column\": \"ElectronAffinity\",\n      \"properties\": {\n        \"dtype\": \"number\",\n        \"std\": 0.879163389629118,\n        \"min\": 0.079,\n        \"max\": 3.617,\n        \"num_unique_values\": 54,\n        \"samples\": [\n          1.156,\n          0.36,\n          0.2\n        ],\n        \"semantic_type\": \"\",\n        \"description\": \"\"\n      }\n    },\n    {\n      \"column\": \"OxidationStates\",\n      \"properties\": {\n        \"dtype\": \"category\",\n        \"num_unique_values\": 43,\n        \"samples\": [\n          \"2, 1, 0\",\n          \"+4, +3\",\n          \"+5\"\n        ],\n        \"semantic_type\": \"\",\n        \"description\": \"\"\n      }\n    },\n    {\n      \"column\": \"StandardState\",\n      \"properties\": {\n        \"dtype\": \"category\",\n        \"num_unique_values\": 5,\n        \"samples\": [\n          \"Solid\",\n          \"Expected to be a Gas\",\n          \"Liquid\"\n        ],\n        \"semantic_type\": \"\",\n        \"description\": \"\"\n      }\n    },\n    {\n      \"column\": \"MeltingPoint\",\n      \"properties\": {\n        \"dtype\": \"number\",\n        \"std\": 888.8538594805698,\n        \"min\": 0.95,\n        \"max\": 3823.0,\n        \"num_unique_values\": 102,\n        \"samples\": [\n          302.91,\n          1802.0,\n          1095.0\n        ],\n        \"semantic_type\": \"\",\n        \"description\": \"\"\n      }\n    },\n    {\n      \"column\": \"BoilingPoint\",\n      \"properties\": {\n        \"dtype\": \"number\",\n        \"std\": 1588.4109189297772,\n        \"min\": 4.22,\n        \"max\": 5869.0,\n        \"num_unique_values\": 92,\n        \"samples\": [\n          5017.0,\n          3680.0,\n          2170.0\n        ],\n        \"semantic_type\": \"\",\n        \"description\": \"\"\n      }\n    },\n    {\n      \"column\": \"Density\",\n      \"properties\": {\n        \"dtype\": \"number\",\n        \"std\": 5.878691792126249,\n        \"min\": 8.988e-05,\n        \"max\": 22.57,\n        \"num_unique_values\": 94,\n        \"samples\": [\n          8.57,\n          6.0,\n          3.62\n        ],\n        \"semantic_type\": \"\",\n        \"description\": \"\"\n      }\n    },\n    {\n      \"column\": \"GroupBlock\",\n      \"properties\": {\n        \"dtype\": \"category\",\n        \"num_unique_values\": 10,\n        \"samples\": [\n          \"Lanthanide\",\n          \"Noble gas\",\n          \"Halogen\"\n        ],\n        \"semantic_type\": \"\",\n        \"description\": \"\"\n      }\n    },\n    {\n      \"column\": \"YearDiscovered\",\n      \"properties\": {\n        \"dtype\": \"string\",\n        \"num_unique_values\": 76,\n        \"samples\": [\n          \"1808\",\n          \"1860\",\n          \"1807\"\n        ],\n        \"semantic_type\": \"\",\n        \"description\": \"\"\n      }\n    }\n  ]\n}"
            }
          },
          "metadata": {},
          "execution_count": 46
        }
      ],
      "source": [
        "p_df=pd.read_csv('https://raw.githubusercontent.com/jsdhami/Python-For-Research/main/Data/p_table.csv')\n",
        "p_df.head()"
      ]
    },
    {
      "cell_type": "markdown",
      "metadata": {
        "id": "UNztHfuplQbX"
      },
      "source": [
        "select Required data from table\n"
      ]
    },
    {
      "cell_type": "code",
      "execution_count": 47,
      "metadata": {
        "colab": {
          "base_uri": "https://localhost:8080/",
          "height": 206
        },
        "id": "xvm5nZmylO2u",
        "outputId": "8c57a465-dc51-4ca8-807d-02b05322ec52"
      },
      "outputs": [
        {
          "output_type": "execute_result",
          "data": {
            "text/plain": [
              "           W  x          y      z\n",
              "0   Hydrogen  1   1.008000  120.0\n",
              "1     Helium  2   4.002600  140.0\n",
              "2    Lithium  3   7.000000  182.0\n",
              "3  Beryllium  4   9.012183  153.0\n",
              "4      Boron  5  10.810000  192.0"
            ],
            "text/html": [
              "\n",
              "  <div id=\"df-d0ef1609-8ce2-457c-8879-2fb8aeb75f70\" class=\"colab-df-container\">\n",
              "    <div>\n",
              "<style scoped>\n",
              "    .dataframe tbody tr th:only-of-type {\n",
              "        vertical-align: middle;\n",
              "    }\n",
              "\n",
              "    .dataframe tbody tr th {\n",
              "        vertical-align: top;\n",
              "    }\n",
              "\n",
              "    .dataframe thead th {\n",
              "        text-align: right;\n",
              "    }\n",
              "</style>\n",
              "<table border=\"1\" class=\"dataframe\">\n",
              "  <thead>\n",
              "    <tr style=\"text-align: right;\">\n",
              "      <th></th>\n",
              "      <th>W</th>\n",
              "      <th>x</th>\n",
              "      <th>y</th>\n",
              "      <th>z</th>\n",
              "    </tr>\n",
              "  </thead>\n",
              "  <tbody>\n",
              "    <tr>\n",
              "      <th>0</th>\n",
              "      <td>Hydrogen</td>\n",
              "      <td>1</td>\n",
              "      <td>1.008000</td>\n",
              "      <td>120.0</td>\n",
              "    </tr>\n",
              "    <tr>\n",
              "      <th>1</th>\n",
              "      <td>Helium</td>\n",
              "      <td>2</td>\n",
              "      <td>4.002600</td>\n",
              "      <td>140.0</td>\n",
              "    </tr>\n",
              "    <tr>\n",
              "      <th>2</th>\n",
              "      <td>Lithium</td>\n",
              "      <td>3</td>\n",
              "      <td>7.000000</td>\n",
              "      <td>182.0</td>\n",
              "    </tr>\n",
              "    <tr>\n",
              "      <th>3</th>\n",
              "      <td>Beryllium</td>\n",
              "      <td>4</td>\n",
              "      <td>9.012183</td>\n",
              "      <td>153.0</td>\n",
              "    </tr>\n",
              "    <tr>\n",
              "      <th>4</th>\n",
              "      <td>Boron</td>\n",
              "      <td>5</td>\n",
              "      <td>10.810000</td>\n",
              "      <td>192.0</td>\n",
              "    </tr>\n",
              "  </tbody>\n",
              "</table>\n",
              "</div>\n",
              "    <div class=\"colab-df-buttons\">\n",
              "\n",
              "  <div class=\"colab-df-container\">\n",
              "    <button class=\"colab-df-convert\" onclick=\"convertToInteractive('df-d0ef1609-8ce2-457c-8879-2fb8aeb75f70')\"\n",
              "            title=\"Convert this dataframe to an interactive table.\"\n",
              "            style=\"display:none;\">\n",
              "\n",
              "  <svg xmlns=\"http://www.w3.org/2000/svg\" height=\"24px\" viewBox=\"0 -960 960 960\">\n",
              "    <path d=\"M120-120v-720h720v720H120Zm60-500h600v-160H180v160Zm220 220h160v-160H400v160Zm0 220h160v-160H400v160ZM180-400h160v-160H180v160Zm440 0h160v-160H620v160ZM180-180h160v-160H180v160Zm440 0h160v-160H620v160Z\"/>\n",
              "  </svg>\n",
              "    </button>\n",
              "\n",
              "  <style>\n",
              "    .colab-df-container {\n",
              "      display:flex;\n",
              "      gap: 12px;\n",
              "    }\n",
              "\n",
              "    .colab-df-convert {\n",
              "      background-color: #E8F0FE;\n",
              "      border: none;\n",
              "      border-radius: 50%;\n",
              "      cursor: pointer;\n",
              "      display: none;\n",
              "      fill: #1967D2;\n",
              "      height: 32px;\n",
              "      padding: 0 0 0 0;\n",
              "      width: 32px;\n",
              "    }\n",
              "\n",
              "    .colab-df-convert:hover {\n",
              "      background-color: #E2EBFA;\n",
              "      box-shadow: 0px 1px 2px rgba(60, 64, 67, 0.3), 0px 1px 3px 1px rgba(60, 64, 67, 0.15);\n",
              "      fill: #174EA6;\n",
              "    }\n",
              "\n",
              "    .colab-df-buttons div {\n",
              "      margin-bottom: 4px;\n",
              "    }\n",
              "\n",
              "    [theme=dark] .colab-df-convert {\n",
              "      background-color: #3B4455;\n",
              "      fill: #D2E3FC;\n",
              "    }\n",
              "\n",
              "    [theme=dark] .colab-df-convert:hover {\n",
              "      background-color: #434B5C;\n",
              "      box-shadow: 0px 1px 3px 1px rgba(0, 0, 0, 0.15);\n",
              "      filter: drop-shadow(0px 1px 2px rgba(0, 0, 0, 0.3));\n",
              "      fill: #FFFFFF;\n",
              "    }\n",
              "  </style>\n",
              "\n",
              "    <script>\n",
              "      const buttonEl =\n",
              "        document.querySelector('#df-d0ef1609-8ce2-457c-8879-2fb8aeb75f70 button.colab-df-convert');\n",
              "      buttonEl.style.display =\n",
              "        google.colab.kernel.accessAllowed ? 'block' : 'none';\n",
              "\n",
              "      async function convertToInteractive(key) {\n",
              "        const element = document.querySelector('#df-d0ef1609-8ce2-457c-8879-2fb8aeb75f70');\n",
              "        const dataTable =\n",
              "          await google.colab.kernel.invokeFunction('convertToInteractive',\n",
              "                                                    [key], {});\n",
              "        if (!dataTable) return;\n",
              "\n",
              "        const docLinkHtml = 'Like what you see? Visit the ' +\n",
              "          '<a target=\"_blank\" href=https://colab.research.google.com/notebooks/data_table.ipynb>data table notebook</a>'\n",
              "          + ' to learn more about interactive tables.';\n",
              "        element.innerHTML = '';\n",
              "        dataTable['output_type'] = 'display_data';\n",
              "        await google.colab.output.renderOutput(dataTable, element);\n",
              "        const docLink = document.createElement('div');\n",
              "        docLink.innerHTML = docLinkHtml;\n",
              "        element.appendChild(docLink);\n",
              "      }\n",
              "    </script>\n",
              "  </div>\n",
              "\n",
              "\n",
              "<div id=\"df-15014918-a221-4b67-b9ab-2c81c6442b47\">\n",
              "  <button class=\"colab-df-quickchart\" onclick=\"quickchart('df-15014918-a221-4b67-b9ab-2c81c6442b47')\"\n",
              "            title=\"Suggest charts\"\n",
              "            style=\"display:none;\">\n",
              "\n",
              "<svg xmlns=\"http://www.w3.org/2000/svg\" height=\"24px\"viewBox=\"0 0 24 24\"\n",
              "     width=\"24px\">\n",
              "    <g>\n",
              "        <path d=\"M19 3H5c-1.1 0-2 .9-2 2v14c0 1.1.9 2 2 2h14c1.1 0 2-.9 2-2V5c0-1.1-.9-2-2-2zM9 17H7v-7h2v7zm4 0h-2V7h2v10zm4 0h-2v-4h2v4z\"/>\n",
              "    </g>\n",
              "</svg>\n",
              "  </button>\n",
              "\n",
              "<style>\n",
              "  .colab-df-quickchart {\n",
              "      --bg-color: #E8F0FE;\n",
              "      --fill-color: #1967D2;\n",
              "      --hover-bg-color: #E2EBFA;\n",
              "      --hover-fill-color: #174EA6;\n",
              "      --disabled-fill-color: #AAA;\n",
              "      --disabled-bg-color: #DDD;\n",
              "  }\n",
              "\n",
              "  [theme=dark] .colab-df-quickchart {\n",
              "      --bg-color: #3B4455;\n",
              "      --fill-color: #D2E3FC;\n",
              "      --hover-bg-color: #434B5C;\n",
              "      --hover-fill-color: #FFFFFF;\n",
              "      --disabled-bg-color: #3B4455;\n",
              "      --disabled-fill-color: #666;\n",
              "  }\n",
              "\n",
              "  .colab-df-quickchart {\n",
              "    background-color: var(--bg-color);\n",
              "    border: none;\n",
              "    border-radius: 50%;\n",
              "    cursor: pointer;\n",
              "    display: none;\n",
              "    fill: var(--fill-color);\n",
              "    height: 32px;\n",
              "    padding: 0;\n",
              "    width: 32px;\n",
              "  }\n",
              "\n",
              "  .colab-df-quickchart:hover {\n",
              "    background-color: var(--hover-bg-color);\n",
              "    box-shadow: 0 1px 2px rgba(60, 64, 67, 0.3), 0 1px 3px 1px rgba(60, 64, 67, 0.15);\n",
              "    fill: var(--button-hover-fill-color);\n",
              "  }\n",
              "\n",
              "  .colab-df-quickchart-complete:disabled,\n",
              "  .colab-df-quickchart-complete:disabled:hover {\n",
              "    background-color: var(--disabled-bg-color);\n",
              "    fill: var(--disabled-fill-color);\n",
              "    box-shadow: none;\n",
              "  }\n",
              "\n",
              "  .colab-df-spinner {\n",
              "    border: 2px solid var(--fill-color);\n",
              "    border-color: transparent;\n",
              "    border-bottom-color: var(--fill-color);\n",
              "    animation:\n",
              "      spin 1s steps(1) infinite;\n",
              "  }\n",
              "\n",
              "  @keyframes spin {\n",
              "    0% {\n",
              "      border-color: transparent;\n",
              "      border-bottom-color: var(--fill-color);\n",
              "      border-left-color: var(--fill-color);\n",
              "    }\n",
              "    20% {\n",
              "      border-color: transparent;\n",
              "      border-left-color: var(--fill-color);\n",
              "      border-top-color: var(--fill-color);\n",
              "    }\n",
              "    30% {\n",
              "      border-color: transparent;\n",
              "      border-left-color: var(--fill-color);\n",
              "      border-top-color: var(--fill-color);\n",
              "      border-right-color: var(--fill-color);\n",
              "    }\n",
              "    40% {\n",
              "      border-color: transparent;\n",
              "      border-right-color: var(--fill-color);\n",
              "      border-top-color: var(--fill-color);\n",
              "    }\n",
              "    60% {\n",
              "      border-color: transparent;\n",
              "      border-right-color: var(--fill-color);\n",
              "    }\n",
              "    80% {\n",
              "      border-color: transparent;\n",
              "      border-right-color: var(--fill-color);\n",
              "      border-bottom-color: var(--fill-color);\n",
              "    }\n",
              "    90% {\n",
              "      border-color: transparent;\n",
              "      border-bottom-color: var(--fill-color);\n",
              "    }\n",
              "  }\n",
              "</style>\n",
              "\n",
              "  <script>\n",
              "    async function quickchart(key) {\n",
              "      const quickchartButtonEl =\n",
              "        document.querySelector('#' + key + ' button');\n",
              "      quickchartButtonEl.disabled = true;  // To prevent multiple clicks.\n",
              "      quickchartButtonEl.classList.add('colab-df-spinner');\n",
              "      try {\n",
              "        const charts = await google.colab.kernel.invokeFunction(\n",
              "            'suggestCharts', [key], {});\n",
              "      } catch (error) {\n",
              "        console.error('Error during call to suggestCharts:', error);\n",
              "      }\n",
              "      quickchartButtonEl.classList.remove('colab-df-spinner');\n",
              "      quickchartButtonEl.classList.add('colab-df-quickchart-complete');\n",
              "    }\n",
              "    (() => {\n",
              "      let quickchartButtonEl =\n",
              "        document.querySelector('#df-15014918-a221-4b67-b9ab-2c81c6442b47 button');\n",
              "      quickchartButtonEl.style.display =\n",
              "        google.colab.kernel.accessAllowed ? 'block' : 'none';\n",
              "    })();\n",
              "  </script>\n",
              "</div>\n",
              "\n",
              "    </div>\n",
              "  </div>\n"
            ],
            "application/vnd.google.colaboratory.intrinsic+json": {
              "type": "dataframe",
              "variable_name": "df",
              "summary": "{\n  \"name\": \"df\",\n  \"rows\": 118,\n  \"fields\": [\n    {\n      \"column\": \"W\",\n      \"properties\": {\n        \"dtype\": \"string\",\n        \"num_unique_values\": 118,\n        \"samples\": [\n          \"Lanthanum\",\n          \"Thorium\",\n          \"Boron\"\n        ],\n        \"semantic_type\": \"\",\n        \"description\": \"\"\n      }\n    },\n    {\n      \"column\": \"x\",\n      \"properties\": {\n        \"dtype\": \"number\",\n        \"std\": 34,\n        \"min\": 1,\n        \"max\": 118,\n        \"num_unique_values\": 118,\n        \"samples\": [\n          57,\n          90,\n          5\n        ],\n        \"semantic_type\": \"\",\n        \"description\": \"\"\n      }\n    },\n    {\n      \"column\": \"y\",\n      \"properties\": {\n        \"dtype\": \"number\",\n        \"std\": 89.76830563748716,\n        \"min\": 1.008,\n        \"max\": 295.216,\n        \"num_unique_values\": 118,\n        \"samples\": [\n          138.9055,\n          232.038,\n          10.81\n        ],\n        \"semantic_type\": \"\",\n        \"description\": \"\"\n      }\n    },\n    {\n      \"column\": \"z\",\n      \"properties\": {\n        \"dtype\": \"number\",\n        \"std\": 38.56913038955364,\n        \"min\": 120.0,\n        \"max\": 348.0,\n        \"num_unique_values\": 66,\n        \"samples\": [\n          221.0,\n          260.0,\n          120.0\n        ],\n        \"semantic_type\": \"\",\n        \"description\": \"\"\n      }\n    }\n  ]\n}"
            }
          },
          "metadata": {},
          "execution_count": 47
        }
      ],
      "source": [
        "A=p_df['Name']\n",
        "x=p_df['AtomicNumber']\n",
        "y=p_df['AtomicMass']\n",
        "z=p_df['AtomicRadius']\n",
        "\n",
        "#create data frame\n",
        "df=pd.DataFrame({'W':A,'x':x,'y':y,'z':z})\n",
        "df.head()"
      ]
    },
    {
      "cell_type": "markdown",
      "metadata": {
        "id": "PHGbYolYmomY"
      },
      "source": [
        "# How to plot Graph\n",
        "Old version way of matplotlib"
      ]
    },
    {
      "cell_type": "code",
      "execution_count": 48,
      "metadata": {
        "colab": {
          "base_uri": "https://localhost:8080/",
          "height": 843
        },
        "id": "a7pc-QRimmDn",
        "outputId": "71e951c0-8210-4d1d-f254-7e4fb5355879"
      },
      "outputs": [
        {
          "output_type": "display_data",
          "data": {
            "text/plain": [
              "<Figure size 640x480 with 1 Axes>"
            ],
            "image/png": "[encoded data removed]"
          },
          "metadata": {}
        },
        {
          "output_type": "display_data",
          "data": {
            "text/plain": [
              "<Figure size 640x480 with 1 Axes>"
            ],
            "image/png": "[encoded data removed]"
          },
          "metadata": {}
        }
      ],
      "source": [
        "#plot\n",
        "plt.plot(x,y)\n",
        "plt.show()\n",
        "\n",
        "plt.plot(x,z)\n",
        "plt.show()"
      ]
    },
    {
      "cell_type": "markdown",
      "metadata": {
        "id": "TkNEG9AinaZA"
      },
      "source": [
        "New version way of matplotlib\n"
      ]
    },
    {
      "cell_type": "markdown",
      "metadata": {
        "id": "-RZWjvgGnkTY"
      },
      "source": [
        "Line plot"
      ]
    },
    {
      "cell_type": "code",
      "execution_count": 50,
      "metadata": {
        "id": "yTB15gYjngo9",
        "colab": {
          "base_uri": "https://localhost:8080/",
          "height": 945
        },
        "outputId": "74036c26-7b67-4934-9a42-a8a2767e2032"
      },
      "outputs": [
        {
          "output_type": "stream",
          "name": "stdout",
          "text": [
            "       Angle         Value\n",
            "0  -6.283185  2.449294e-16\n",
            "1  -5.783185  4.794255e-01\n",
            "2  -5.283185  8.414710e-01\n",
            "3  -4.783185  9.974950e-01\n",
            "4  -4.283185  9.092974e-01\n",
            "5  -3.783185  5.984721e-01\n",
            "6  -3.283185  1.411200e-01\n",
            "7  -2.783185 -3.507832e-01\n",
            "8  -2.283185 -7.568025e-01\n",
            "9  -1.783185 -9.775301e-01\n",
            "10 -1.283185 -9.589243e-01\n",
            "11 -0.783185 -7.055403e-01\n",
            "12 -0.283185 -2.794155e-01\n",
            "13  0.216815  2.151200e-01\n",
            "14  0.716815  6.569866e-01\n",
            "15  1.216815  9.380000e-01\n",
            "16  1.716815  9.893582e-01\n",
            "17  2.216815  7.984871e-01\n",
            "18  2.716815  4.121185e-01\n",
            "19  3.216815 -7.515112e-02\n",
            "20  3.716815 -5.440211e-01\n",
            "21  4.216815 -8.796958e-01\n",
            "22  4.716815 -9.999902e-01\n",
            "23  5.216815 -8.754522e-01\n",
            "24  5.716815 -5.365729e-01\n",
            "25  6.216815 -6.632190e-02\n"
          ]
        },
        {
          "output_type": "display_data",
          "data": {
            "text/plain": [
              "<Figure size 640x480 with 1 Axes>"
            ],
            "image/png": "[encoded data removed]"
          },
          "metadata": {}
        }
      ],
      "source": [
        "import math as m\n",
        "x = np.arange(-2*m.pi, 2*m.pi, 0.5)\n",
        "y=np.sin(x)\n",
        "\n",
        "\n",
        "#use style\n",
        "plt.style.use('ggplot')\n",
        "\n",
        "#create dataframe and indexing\n",
        "DhiDF=pd.DataFrame({'Angle':x,'Value':y,})\n",
        "print(DhiDF)\n",
        "\n",
        "#plot\n",
        "#plt.plot(DhiDF)\n",
        "\n",
        "#Create figure and axes\n",
        "fig,ax=plt.subplots()\n",
        "\n",
        "#plot\n",
        "ax.plot(x,y,'o-', markeredgewidth=2)\n",
        "\n",
        "#labeling\n",
        "ax.set_xlabel('Angle')\n",
        "ax.set_ylabel('Value')\n",
        "ax.set_title('SIN GRAPH')\n",
        "\n",
        "#Grid\n",
        "ax.grid(True)\n",
        "\n",
        "#show\n",
        "plt.show()"
      ]
    },
    {
      "cell_type": "markdown",
      "metadata": {
        "id": "s-6IGwCHusFw"
      },
      "source": [
        "Bar plot"
      ]
    },
    {
      "cell_type": "code",
      "execution_count": 51,
      "metadata": {
        "colab": {
          "base_uri": "https://localhost:8080/",
          "height": 477
        },
        "id": "nRA-Mn7zuvS-",
        "outputId": "351b33ca-d736-4339-d951-3dd106eed300"
      },
      "outputs": [
        {
          "output_type": "display_data",
          "data": {
            "text/plain": [
              "<Figure size 640x480 with 1 Axes>"
            ],
            "image/png": "[encoded data removed]"
          },
          "metadata": {}
        }
      ],
      "source": [
        "#Simply bar diagram\n",
        "fig,ax=plt.subplots()\n",
        "fruits=['Apple','Banana','Cherry','Mango']\n",
        "counts=[35,65,95,125]\n",
        "bar_labels=['Red','yello','Blue','Green']\n",
        "bar_colors=['red','yellow','blue','green']\n",
        "\n",
        "ax.bar(fruits,counts,label=bar_labels,color=bar_colors)\n",
        "ax.set_xlabel('Fruits')\n",
        "ax.set_ylabel('Counts')\n",
        "ax.set_title('Bar Graph')\n",
        "ax.legend(title='fruits')\n",
        "\n",
        "plt.show()"
      ]
    }
  ],
  "metadata": {
    "colab": {
      "provenance": [],
      "authorship_tag": "ABX9TyONuU06aPFGetvwqz4JqT7n",
      "include_colab_link": true
    },
    "kernelspec": {
      "display_name": "Python 3",
      "name": "python3"
    },
    "language_info": {
      "name": "python"
    }
  },
  "nbformat": 4,
  "nbformat_minor": 0
}